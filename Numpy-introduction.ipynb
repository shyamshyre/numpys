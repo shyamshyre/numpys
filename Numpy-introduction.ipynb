{
 "cells": [
  {
   "cell_type": "markdown",
   "id": "a6f51d73",
   "metadata": {},
   "source": [
    "# Introduction to numpy\n",
    "\n"
   ]
  },
  {
   "cell_type": "code",
   "execution_count": 267,
   "id": "d2a908db",
   "metadata": {},
   "outputs": [],
   "source": [
    "import numpy as np\n",
    "import pandas as pd\n",
    "from matplotlib import pyplot as plt "
   ]
  },
  {
   "cell_type": "markdown",
   "id": "a82e2afd",
   "metadata": {},
   "source": [
    "## Data Types & Attributes"
   ]
  },
  {
   "cell_type": "code",
   "execution_count": 268,
   "id": "927b1e77",
   "metadata": {},
   "outputs": [],
   "source": [
    "# Numpys main data type is ndarray\n",
    "# Single Dimension Array.\n",
    "a1= np.array([1,2,3])"
   ]
  },
  {
   "cell_type": "code",
   "execution_count": 269,
   "id": "ce1974c5",
   "metadata": {},
   "outputs": [
    {
     "data": {
      "text/plain": [
       "array([1, 2, 3])"
      ]
     },
     "execution_count": 269,
     "metadata": {},
     "output_type": "execute_result"
    }
   ],
   "source": [
    "a1"
   ]
  },
  {
   "cell_type": "code",
   "execution_count": 270,
   "id": "6845677e",
   "metadata": {},
   "outputs": [
    {
     "name": "stdout",
     "output_type": "stream",
     "text": [
      "type <class 'numpy.ndarray'>\n",
      "shape:: (3,)\n",
      "size 3\n",
      "ndim 1\n"
     ]
    }
   ],
   "source": [
    "print(\"type\",type(a1))\n",
    "print(\"shape::\",a1.shape)\n",
    "print(\"size\",a1.size)\n",
    "print(\"ndim\",a1.ndim)"
   ]
  },
  {
   "cell_type": "code",
   "execution_count": 271,
   "id": "b37facde",
   "metadata": {},
   "outputs": [
    {
     "name": "stdout",
     "output_type": "stream",
     "text": [
      "type <class 'numpy.ndarray'>\n",
      "shape:: (2, 3)\n",
      "size 6\n",
      "ndim 2\n"
     ]
    },
    {
     "data": {
      "text/plain": [
       "array([[1. , 2. , 3.3],\n",
       "       [4. , 5. , 6.5]])"
      ]
     },
     "execution_count": 271,
     "metadata": {},
     "output_type": "execute_result"
    }
   ],
   "source": [
    "a2= np.array([[1,2,3.3],[4,5,6.5]])\n",
    "print(\"type\",type(a1))\n",
    "print(\"shape::\",a2.shape)\n",
    "print(\"size\",a2.size)\n",
    "print(\"ndim\",a2.ndim)\n",
    "a2\n"
   ]
  },
  {
   "cell_type": "code",
   "execution_count": 272,
   "id": "504359ea",
   "metadata": {},
   "outputs": [
    {
     "name": "stdout",
     "output_type": "stream",
     "text": [
      "shape:: (3, 2, 3)\n",
      "size 18\n",
      "ndim 3\n"
     ]
    },
    {
     "data": {
      "text/plain": [
       "array([[[ 1,  2,  3],\n",
       "        [ 4,  5,  6]],\n",
       "\n",
       "       [[ 7,  8,  9],\n",
       "        [10, 11, 12]],\n",
       "\n",
       "       [[13, 14, 15],\n",
       "        [16, 17, 18]]])"
      ]
     },
     "execution_count": 272,
     "metadata": {},
     "output_type": "execute_result"
    }
   ],
   "source": [
    "a3=np.array([[[1,2,3],[4,5,6]],[[7,8,9],[10,11,12]],[[13,14,15],[16,17,18]]])\n",
    "print(\"shape::\",a3.shape)\n",
    "print(\"size\",a3.size)\n",
    "print(\"ndim\",a3.ndim)\n",
    "a3"
   ]
  },
  {
   "cell_type": "code",
   "execution_count": 273,
   "id": "cc77485a",
   "metadata": {},
   "outputs": [],
   "source": [
    "\n",
    "a4 = np.array([[[1, 2, 3, 0],\n",
    "                [4, 5, 6, 0],\n",
    "                [7, 8, 9, 0],\n",
    "                [1, 1, 1, 1]],\n",
    "                [[10, 11, 12, 0], \n",
    "                [13, 14, 15, 0],\n",
    "                [16, 17, 18, 0],\n",
    "                [1, 1, 1, 1]],\n",
    "                \n",
    "                [[19, 20, 21,0],\n",
    "                [22, 23, 24,0],\n",
    "                [25, 26, 27,0],\n",
    "                [1, 1, 1,1]],\n",
    "                \n",
    "                [[28, 29, 30,0],\n",
    "                [31, 32, 34,0],\n",
    "                [35, 36, 37,0],\n",
    "                [1, 1, 1,1]]\n",
    "              ])"
   ]
  },
  {
   "cell_type": "code",
   "execution_count": 274,
   "id": "59f7ef50",
   "metadata": {},
   "outputs": [
    {
     "name": "stdout",
     "output_type": "stream",
     "text": [
      "shape:: (4, 4, 4)\n",
      "size 64\n",
      "ndim 3\n"
     ]
    },
    {
     "data": {
      "text/plain": [
       "array([[[ 1,  2,  3,  0],\n",
       "        [ 4,  5,  6,  0],\n",
       "        [ 7,  8,  9,  0],\n",
       "        [ 1,  1,  1,  1]],\n",
       "\n",
       "       [[10, 11, 12,  0],\n",
       "        [13, 14, 15,  0],\n",
       "        [16, 17, 18,  0],\n",
       "        [ 1,  1,  1,  1]],\n",
       "\n",
       "       [[19, 20, 21,  0],\n",
       "        [22, 23, 24,  0],\n",
       "        [25, 26, 27,  0],\n",
       "        [ 1,  1,  1,  1]],\n",
       "\n",
       "       [[28, 29, 30,  0],\n",
       "        [31, 32, 34,  0],\n",
       "        [35, 36, 37,  0],\n",
       "        [ 1,  1,  1,  1]]])"
      ]
     },
     "execution_count": 274,
     "metadata": {},
     "output_type": "execute_result"
    }
   ],
   "source": [
    "print(\"shape::\",a4.shape)\n",
    "print(\"size\",a4.size)\n",
    "print(\"ndim\",a4.ndim)\n",
    "a4"
   ]
  },
  {
   "cell_type": "code",
   "execution_count": 275,
   "id": "ff25b0cf",
   "metadata": {},
   "outputs": [
    {
     "data": {
      "text/plain": [
       "(3, 2, 3)"
      ]
     },
     "execution_count": 275,
     "metadata": {},
     "output_type": "execute_result"
    }
   ],
   "source": [
    "a3.shape"
   ]
  },
  {
   "cell_type": "code",
   "execution_count": 276,
   "id": "a3431d4a",
   "metadata": {},
   "outputs": [
    {
     "data": {
      "text/plain": [
       "(4, 4, 4)"
      ]
     },
     "execution_count": 276,
     "metadata": {},
     "output_type": "execute_result"
    }
   ],
   "source": [
    "a4.shape"
   ]
  },
  {
   "cell_type": "code",
   "execution_count": 277,
   "id": "f0e3ed6e",
   "metadata": {},
   "outputs": [
    {
     "data": {
      "text/plain": [
       "(3,)"
      ]
     },
     "execution_count": 277,
     "metadata": {},
     "output_type": "execute_result"
    }
   ],
   "source": [
    "a1.shape"
   ]
  },
  {
   "cell_type": "code",
   "execution_count": 278,
   "id": "5dd52ed5",
   "metadata": {},
   "outputs": [
    {
     "data": {
      "text/plain": [
       "(2, 3)"
      ]
     },
     "execution_count": 278,
     "metadata": {},
     "output_type": "execute_result"
    }
   ],
   "source": [
    "a2.shape"
   ]
  },
  {
   "cell_type": "code",
   "execution_count": 279,
   "id": "0cfa12f1",
   "metadata": {},
   "outputs": [
    {
     "data": {
      "text/plain": [
       "1"
      ]
     },
     "execution_count": 279,
     "metadata": {},
     "output_type": "execute_result"
    }
   ],
   "source": [
    "a1.ndim"
   ]
  },
  {
   "cell_type": "code",
   "execution_count": 280,
   "id": "0ad4f0e1",
   "metadata": {},
   "outputs": [
    {
     "data": {
      "text/plain": [
       "2"
      ]
     },
     "execution_count": 280,
     "metadata": {},
     "output_type": "execute_result"
    }
   ],
   "source": [
    "a2.ndim"
   ]
  },
  {
   "cell_type": "code",
   "execution_count": 281,
   "id": "b6314987",
   "metadata": {},
   "outputs": [
    {
     "data": {
      "text/plain": [
       "3"
      ]
     },
     "execution_count": 281,
     "metadata": {},
     "output_type": "execute_result"
    }
   ],
   "source": [
    "a3.ndim"
   ]
  },
  {
   "cell_type": "code",
   "execution_count": 282,
   "id": "00d60108",
   "metadata": {},
   "outputs": [
    {
     "data": {
      "text/plain": [
       "3"
      ]
     },
     "execution_count": 282,
     "metadata": {},
     "output_type": "execute_result"
    }
   ],
   "source": [
    "a4.ndim"
   ]
  },
  {
   "cell_type": "code",
   "execution_count": 283,
   "id": "ea971869",
   "metadata": {},
   "outputs": [
    {
     "data": {
      "text/plain": [
       "(dtype('int64'), dtype('float64'), dtype('int64'), dtype('int64'))"
      ]
     },
     "execution_count": 283,
     "metadata": {},
     "output_type": "execute_result"
    }
   ],
   "source": [
    "a1.dtype,a2.dtype,a3.dtype,a4.dtype"
   ]
  },
  {
   "cell_type": "code",
   "execution_count": 284,
   "id": "cce50ef4",
   "metadata": {},
   "outputs": [
    {
     "data": {
      "text/plain": [
       "(3, 6, 18, 64)"
      ]
     },
     "execution_count": 284,
     "metadata": {},
     "output_type": "execute_result"
    }
   ],
   "source": [
    "a1.size,a2.size,a3.size,a4.size"
   ]
  },
  {
   "cell_type": "code",
   "execution_count": 285,
   "id": "bd20c0ba",
   "metadata": {},
   "outputs": [
    {
     "data": {
      "text/plain": [
       "(numpy.ndarray, numpy.ndarray, numpy.ndarray, numpy.ndarray)"
      ]
     },
     "execution_count": 285,
     "metadata": {},
     "output_type": "execute_result"
    }
   ],
   "source": [
    "type(a1),type(a2),type(a3),type(a4)"
   ]
  },
  {
   "cell_type": "code",
   "execution_count": 20,
   "id": "543e4a75",
   "metadata": {},
   "outputs": [
    {
     "data": {
      "text/html": [
       "<div>\n",
       "<style scoped>\n",
       "    .dataframe tbody tr th:only-of-type {\n",
       "        vertical-align: middle;\n",
       "    }\n",
       "\n",
       "    .dataframe tbody tr th {\n",
       "        vertical-align: top;\n",
       "    }\n",
       "\n",
       "    .dataframe thead th {\n",
       "        text-align: right;\n",
       "    }\n",
       "</style>\n",
       "<table border=\"1\" class=\"dataframe\">\n",
       "  <thead>\n",
       "    <tr style=\"text-align: right;\">\n",
       "      <th></th>\n",
       "      <th>0</th>\n",
       "      <th>1</th>\n",
       "      <th>2</th>\n",
       "    </tr>\n",
       "  </thead>\n",
       "  <tbody>\n",
       "    <tr>\n",
       "      <th>0</th>\n",
       "      <td>1.0</td>\n",
       "      <td>2.0</td>\n",
       "      <td>3.3</td>\n",
       "    </tr>\n",
       "    <tr>\n",
       "      <th>1</th>\n",
       "      <td>4.0</td>\n",
       "      <td>5.0</td>\n",
       "      <td>6.5</td>\n",
       "    </tr>\n",
       "  </tbody>\n",
       "</table>\n",
       "</div>"
      ],
      "text/plain": [
       "     0    1    2\n",
       "0  1.0  2.0  3.3\n",
       "1  4.0  5.0  6.5"
      ]
     },
     "execution_count": 20,
     "metadata": {},
     "output_type": "execute_result"
    }
   ],
   "source": [
    "# Create a data from numpy array\n",
    "import pandas as pd\n",
    "df = pd.DataFrame(a2)\n",
    "df"
   ]
  },
  {
   "cell_type": "code",
   "execution_count": 21,
   "id": "45d16679",
   "metadata": {},
   "outputs": [
    {
     "ename": "ValueError",
     "evalue": "Must pass 2-d input. shape=(4, 4, 4)",
     "output_type": "error",
     "traceback": [
      "\u001b[0;31m---------------------------------------------------------------------------\u001b[0m",
      "\u001b[0;31mValueError\u001b[0m                                Traceback (most recent call last)",
      "\u001b[0;32m<ipython-input-21-a7e03e6b1dfd>\u001b[0m in \u001b[0;36m<module>\u001b[0;34m\u001b[0m\n\u001b[1;32m      1\u001b[0m \u001b[0;31m# Pandas cant accept 3 dimensional arrays\u001b[0m\u001b[0;34m\u001b[0m\u001b[0;34m\u001b[0m\u001b[0;34m\u001b[0m\u001b[0m\n\u001b[0;32m----> 2\u001b[0;31m \u001b[0mdf\u001b[0m \u001b[0;34m=\u001b[0m \u001b[0mpd\u001b[0m\u001b[0;34m.\u001b[0m\u001b[0mDataFrame\u001b[0m\u001b[0;34m(\u001b[0m\u001b[0ma4\u001b[0m\u001b[0;34m)\u001b[0m\u001b[0;34m\u001b[0m\u001b[0;34m\u001b[0m\u001b[0m\n\u001b[0m\u001b[1;32m      3\u001b[0m \u001b[0mdf\u001b[0m\u001b[0;34m\u001b[0m\u001b[0;34m\u001b[0m\u001b[0m\n",
      "\u001b[0;32m~/Documents/Upgrad/DS-ML/workspace/ml-course/sample_project/env/lib/python3.9/site-packages/pandas/core/frame.py\u001b[0m in \u001b[0;36m__init__\u001b[0;34m(self, data, index, columns, dtype, copy)\u001b[0m\n\u001b[1;32m    556\u001b[0m                 \u001b[0mmgr\u001b[0m \u001b[0;34m=\u001b[0m \u001b[0minit_dict\u001b[0m\u001b[0;34m(\u001b[0m\u001b[0;34m{\u001b[0m\u001b[0mdata\u001b[0m\u001b[0;34m.\u001b[0m\u001b[0mname\u001b[0m\u001b[0;34m:\u001b[0m \u001b[0mdata\u001b[0m\u001b[0;34m}\u001b[0m\u001b[0;34m,\u001b[0m \u001b[0mindex\u001b[0m\u001b[0;34m,\u001b[0m \u001b[0mcolumns\u001b[0m\u001b[0;34m,\u001b[0m \u001b[0mdtype\u001b[0m\u001b[0;34m=\u001b[0m\u001b[0mdtype\u001b[0m\u001b[0;34m)\u001b[0m\u001b[0;34m\u001b[0m\u001b[0;34m\u001b[0m\u001b[0m\n\u001b[1;32m    557\u001b[0m             \u001b[0;32melse\u001b[0m\u001b[0;34m:\u001b[0m\u001b[0;34m\u001b[0m\u001b[0;34m\u001b[0m\u001b[0m\n\u001b[0;32m--> 558\u001b[0;31m                 \u001b[0mmgr\u001b[0m \u001b[0;34m=\u001b[0m \u001b[0minit_ndarray\u001b[0m\u001b[0;34m(\u001b[0m\u001b[0mdata\u001b[0m\u001b[0;34m,\u001b[0m \u001b[0mindex\u001b[0m\u001b[0;34m,\u001b[0m \u001b[0mcolumns\u001b[0m\u001b[0;34m,\u001b[0m \u001b[0mdtype\u001b[0m\u001b[0;34m=\u001b[0m\u001b[0mdtype\u001b[0m\u001b[0;34m,\u001b[0m \u001b[0mcopy\u001b[0m\u001b[0;34m=\u001b[0m\u001b[0mcopy\u001b[0m\u001b[0;34m)\u001b[0m\u001b[0;34m\u001b[0m\u001b[0;34m\u001b[0m\u001b[0m\n\u001b[0m\u001b[1;32m    559\u001b[0m \u001b[0;34m\u001b[0m\u001b[0m\n\u001b[1;32m    560\u001b[0m         \u001b[0;31m# For data is list-like, or Iterable (will consume into list)\u001b[0m\u001b[0;34m\u001b[0m\u001b[0;34m\u001b[0m\u001b[0;34m\u001b[0m\u001b[0m\n",
      "\u001b[0;32m~/Documents/Upgrad/DS-ML/workspace/ml-course/sample_project/env/lib/python3.9/site-packages/pandas/core/internals/construction.py\u001b[0m in \u001b[0;36minit_ndarray\u001b[0;34m(values, index, columns, dtype, copy)\u001b[0m\n\u001b[1;32m    190\u001b[0m     \u001b[0;31m# by definition an array here\u001b[0m\u001b[0;34m\u001b[0m\u001b[0;34m\u001b[0m\u001b[0;34m\u001b[0m\u001b[0m\n\u001b[1;32m    191\u001b[0m     \u001b[0;31m# the dtypes will be coerced to a single dtype\u001b[0m\u001b[0;34m\u001b[0m\u001b[0;34m\u001b[0m\u001b[0;34m\u001b[0m\u001b[0m\n\u001b[0;32m--> 192\u001b[0;31m     \u001b[0mvalues\u001b[0m \u001b[0;34m=\u001b[0m \u001b[0m_prep_ndarray\u001b[0m\u001b[0;34m(\u001b[0m\u001b[0mvalues\u001b[0m\u001b[0;34m,\u001b[0m \u001b[0mcopy\u001b[0m\u001b[0;34m=\u001b[0m\u001b[0mcopy\u001b[0m\u001b[0;34m)\u001b[0m\u001b[0;34m\u001b[0m\u001b[0;34m\u001b[0m\u001b[0m\n\u001b[0m\u001b[1;32m    193\u001b[0m \u001b[0;34m\u001b[0m\u001b[0m\n\u001b[1;32m    194\u001b[0m     \u001b[0;32mif\u001b[0m \u001b[0mdtype\u001b[0m \u001b[0;32mis\u001b[0m \u001b[0;32mnot\u001b[0m \u001b[0;32mNone\u001b[0m \u001b[0;32mand\u001b[0m \u001b[0;32mnot\u001b[0m \u001b[0mis_dtype_equal\u001b[0m\u001b[0;34m(\u001b[0m\u001b[0mvalues\u001b[0m\u001b[0;34m.\u001b[0m\u001b[0mdtype\u001b[0m\u001b[0;34m,\u001b[0m \u001b[0mdtype\u001b[0m\u001b[0;34m)\u001b[0m\u001b[0;34m:\u001b[0m\u001b[0;34m\u001b[0m\u001b[0;34m\u001b[0m\u001b[0m\n",
      "\u001b[0;32m~/Documents/Upgrad/DS-ML/workspace/ml-course/sample_project/env/lib/python3.9/site-packages/pandas/core/internals/construction.py\u001b[0m in \u001b[0;36m_prep_ndarray\u001b[0;34m(values, copy)\u001b[0m\n\u001b[1;32m    326\u001b[0m         \u001b[0mvalues\u001b[0m \u001b[0;34m=\u001b[0m \u001b[0mvalues\u001b[0m\u001b[0;34m.\u001b[0m\u001b[0mreshape\u001b[0m\u001b[0;34m(\u001b[0m\u001b[0;34m(\u001b[0m\u001b[0mvalues\u001b[0m\u001b[0;34m.\u001b[0m\u001b[0mshape\u001b[0m\u001b[0;34m[\u001b[0m\u001b[0;36m0\u001b[0m\u001b[0;34m]\u001b[0m\u001b[0;34m,\u001b[0m \u001b[0;36m1\u001b[0m\u001b[0;34m)\u001b[0m\u001b[0;34m)\u001b[0m\u001b[0;34m\u001b[0m\u001b[0;34m\u001b[0m\u001b[0m\n\u001b[1;32m    327\u001b[0m     \u001b[0;32melif\u001b[0m \u001b[0mvalues\u001b[0m\u001b[0;34m.\u001b[0m\u001b[0mndim\u001b[0m \u001b[0;34m!=\u001b[0m \u001b[0;36m2\u001b[0m\u001b[0;34m:\u001b[0m\u001b[0;34m\u001b[0m\u001b[0;34m\u001b[0m\u001b[0m\n\u001b[0;32m--> 328\u001b[0;31m         \u001b[0;32mraise\u001b[0m \u001b[0mValueError\u001b[0m\u001b[0;34m(\u001b[0m\u001b[0;34mf\"Must pass 2-d input. shape={values.shape}\"\u001b[0m\u001b[0;34m)\u001b[0m\u001b[0;34m\u001b[0m\u001b[0;34m\u001b[0m\u001b[0m\n\u001b[0m\u001b[1;32m    329\u001b[0m \u001b[0;34m\u001b[0m\u001b[0m\n\u001b[1;32m    330\u001b[0m     \u001b[0;32mreturn\u001b[0m \u001b[0mvalues\u001b[0m\u001b[0;34m\u001b[0m\u001b[0;34m\u001b[0m\u001b[0m\n",
      "\u001b[0;31mValueError\u001b[0m: Must pass 2-d input. shape=(4, 4, 4)"
     ]
    }
   ],
   "source": [
    "# Pandas cant accept 3 dimensional arrays\n",
    "df = pd.DataFrame(a4)\n",
    "df"
   ]
  },
  {
   "cell_type": "markdown",
   "id": "d722dda0",
   "metadata": {},
   "source": [
    "# 2. Creating numpy arrays"
   ]
  },
  {
   "cell_type": "code",
   "execution_count": 22,
   "id": "2dd5f8dc",
   "metadata": {},
   "outputs": [
    {
     "data": {
      "text/plain": [
       "dtype('int64')"
      ]
     },
     "execution_count": 22,
     "metadata": {},
     "output_type": "execute_result"
    }
   ],
   "source": [
    "sample_array= np.array([1,2,3])\n",
    "sample_array\n",
    "sample_array.dtype"
   ]
  },
  {
   "cell_type": "code",
   "execution_count": 23,
   "id": "ce760a1c",
   "metadata": {},
   "outputs": [],
   "source": [
    "ones = np.ones((1,1))"
   ]
  },
  {
   "cell_type": "code",
   "execution_count": 24,
   "id": "bc988610",
   "metadata": {},
   "outputs": [
    {
     "data": {
      "text/plain": [
       "array([[1.]])"
      ]
     },
     "execution_count": 24,
     "metadata": {},
     "output_type": "execute_result"
    }
   ],
   "source": [
    "ones"
   ]
  },
  {
   "cell_type": "code",
   "execution_count": 25,
   "id": "53ec1aa3",
   "metadata": {},
   "outputs": [],
   "source": [
    "# define the shape it fills the content with ones\n",
    "ones = np.ones((2,3))"
   ]
  },
  {
   "cell_type": "code",
   "execution_count": 26,
   "id": "db95bf1a",
   "metadata": {},
   "outputs": [
    {
     "data": {
      "text/plain": [
       "array([[1., 1., 1.],\n",
       "       [1., 1., 1.]])"
      ]
     },
     "execution_count": 26,
     "metadata": {},
     "output_type": "execute_result"
    }
   ],
   "source": [
    "ones"
   ]
  },
  {
   "cell_type": "code",
   "execution_count": 27,
   "id": "49196f49",
   "metadata": {},
   "outputs": [],
   "source": [
    "ones = np.ones((4,2,3))"
   ]
  },
  {
   "cell_type": "code",
   "execution_count": 28,
   "id": "bf07cb60",
   "metadata": {},
   "outputs": [
    {
     "data": {
      "text/plain": [
       "array([[[1., 1., 1.],\n",
       "        [1., 1., 1.]],\n",
       "\n",
       "       [[1., 1., 1.],\n",
       "        [1., 1., 1.]],\n",
       "\n",
       "       [[1., 1., 1.],\n",
       "        [1., 1., 1.]],\n",
       "\n",
       "       [[1., 1., 1.],\n",
       "        [1., 1., 1.]]])"
      ]
     },
     "execution_count": 28,
     "metadata": {},
     "output_type": "execute_result"
    }
   ],
   "source": [
    "ones"
   ]
  },
  {
   "cell_type": "code",
   "execution_count": 29,
   "id": "974e6b0a",
   "metadata": {},
   "outputs": [
    {
     "data": {
      "text/plain": [
       "24"
      ]
     },
     "execution_count": 29,
     "metadata": {},
     "output_type": "execute_result"
    }
   ],
   "source": [
    "ones.size\n"
   ]
  },
  {
   "cell_type": "code",
   "execution_count": 30,
   "id": "16f52ab7",
   "metadata": {},
   "outputs": [
    {
     "data": {
      "text/plain": [
       "dtype('float64')"
      ]
     },
     "execution_count": 30,
     "metadata": {},
     "output_type": "execute_result"
    }
   ],
   "source": [
    "ones.dtype"
   ]
  },
  {
   "cell_type": "code",
   "execution_count": 31,
   "id": "9c390e14",
   "metadata": {},
   "outputs": [
    {
     "data": {
      "text/plain": [
       "array([[[0., 0., 0.],\n",
       "        [0., 0., 0.],\n",
       "        [0., 0., 0.]],\n",
       "\n",
       "       [[0., 0., 0.],\n",
       "        [0., 0., 0.],\n",
       "        [0., 0., 0.]]])"
      ]
     },
     "execution_count": 31,
     "metadata": {},
     "output_type": "execute_result"
    }
   ],
   "source": [
    "# Returns a 3*3 matrix with 2 axis \n",
    "zeros = np.zeros((2,3,3))\n",
    "zeros"
   ]
  },
  {
   "cell_type": "code",
   "execution_count": 32,
   "id": "31102ca7",
   "metadata": {},
   "outputs": [
    {
     "data": {
      "text/plain": [
       "array([0, 2, 4, 6, 8])"
      ]
     },
     "execution_count": 32,
     "metadata": {},
     "output_type": "execute_result"
    }
   ],
   "source": [
    "# Returns a one dimentional array between 0 to 10 and step value of 2\n",
    "range_array = np.arange(0,10,2)\n",
    "range_array"
   ]
  },
  {
   "cell_type": "code",
   "execution_count": 33,
   "id": "2a531f56",
   "metadata": {},
   "outputs": [
    {
     "data": {
      "text/plain": [
       "array([[8, 9, 0, 2, 6],\n",
       "       [6, 5, 2, 5, 6],\n",
       "       [4, 7, 3, 7, 0]])"
      ]
     },
     "execution_count": 33,
     "metadata": {},
     "output_type": "execute_result"
    }
   ],
   "source": [
    "# Returns an 3*5 array filled with values between 0 to 9\n",
    "random_array = np.random.randint(0,10,size=(3,5))\n",
    "random_array"
   ]
  },
  {
   "cell_type": "code",
   "execution_count": 34,
   "id": "f3f03325",
   "metadata": {},
   "outputs": [
    {
     "data": {
      "text/plain": [
       "dtype('int64')"
      ]
     },
     "execution_count": 34,
     "metadata": {},
     "output_type": "execute_result"
    }
   ],
   "source": [
    "random_array.size\n",
    "random_array.shape\n",
    "random_array.dtype"
   ]
  },
  {
   "cell_type": "code",
   "execution_count": 35,
   "id": "45a07b4c",
   "metadata": {},
   "outputs": [
    {
     "data": {
      "text/plain": [
       "array([[0.61759932, 0.46998471, 0.18152019],\n",
       "       [0.09308513, 0.65034001, 0.94095849],\n",
       "       [0.64338464, 0.47189738, 0.72765341]])"
      ]
     },
     "execution_count": 35,
     "metadata": {},
     "output_type": "execute_result"
    }
   ],
   "source": [
    "# Returns a 3*3 array filled with values between 0.0 and 1.0\n",
    "random_array_2 = np.random.random(size=(3,3))\n",
    "random_array_2 "
   ]
  },
  {
   "cell_type": "code",
   "execution_count": 36,
   "id": "804511b6",
   "metadata": {},
   "outputs": [
    {
     "data": {
      "text/plain": [
       "array([[0.59801232, 0.31130121, 0.36293352],\n",
       "       [0.92820111, 0.11139272, 0.76685529],\n",
       "       [0.60195841, 0.16041301, 0.41060407],\n",
       "       [0.37441814, 0.98486077, 0.82582276],\n",
       "       [0.22721954, 0.41094358, 0.9135864 ]])"
      ]
     },
     "execution_count": 36,
     "metadata": {},
     "output_type": "execute_result"
    }
   ],
   "source": [
    "random_array_3= np.random.rand(5,3)\n",
    "random_array_3"
   ]
  },
  {
   "cell_type": "code",
   "execution_count": 37,
   "id": "63aff90d",
   "metadata": {},
   "outputs": [
    {
     "data": {
      "text/plain": [
       "array([[0.5488135 , 0.71518937, 0.60276338],\n",
       "       [0.54488318, 0.4236548 , 0.64589411],\n",
       "       [0.43758721, 0.891773  , 0.96366276]])"
      ]
     },
     "execution_count": 37,
     "metadata": {},
     "output_type": "execute_result"
    }
   ],
   "source": [
    "np.random.seed(0)\n",
    "random_array4= np.random.rand(3,3)\n",
    "random_array4"
   ]
  },
  {
   "cell_type": "code",
   "execution_count": 38,
   "id": "208f7876",
   "metadata": {},
   "outputs": [
    {
     "data": {
      "text/plain": [
       "array([[0.38344152, 0.79172504, 0.52889492],\n",
       "       [0.56804456, 0.92559664, 0.07103606],\n",
       "       [0.0871293 , 0.0202184 , 0.83261985]])"
      ]
     },
     "execution_count": 38,
     "metadata": {},
     "output_type": "execute_result"
    }
   ],
   "source": [
    "random_array4= np.random.rand(3,3)\n",
    "random_array4"
   ]
  },
  {
   "cell_type": "markdown",
   "id": "e9cb4219",
   "metadata": {},
   "source": [
    "## Viewing Arrays & MAtrices"
   ]
  },
  {
   "cell_type": "code",
   "execution_count": 39,
   "id": "b01d66f3",
   "metadata": {},
   "outputs": [
    {
     "data": {
      "text/plain": [
       "array([0.0202184 , 0.07103606, 0.0871293 , 0.38344152, 0.52889492,\n",
       "       0.56804456, 0.79172504, 0.83261985, 0.92559664])"
      ]
     },
     "execution_count": 39,
     "metadata": {},
     "output_type": "execute_result"
    }
   ],
   "source": [
    "# how to find the unique elements inside the array.\n",
    "np.unique(random_array4)"
   ]
  },
  {
   "cell_type": "code",
   "execution_count": 40,
   "id": "efdcd118",
   "metadata": {},
   "outputs": [
    {
     "data": {
      "text/plain": [
       "array([0, 2, 3, 4, 5, 6, 7, 8, 9])"
      ]
     },
     "execution_count": 40,
     "metadata": {},
     "output_type": "execute_result"
    }
   ],
   "source": [
    "np.unique(random_array)"
   ]
  },
  {
   "cell_type": "code",
   "execution_count": 41,
   "id": "54f6295c",
   "metadata": {},
   "outputs": [
    {
     "data": {
      "text/plain": [
       "1"
      ]
     },
     "execution_count": 41,
     "metadata": {},
     "output_type": "execute_result"
    }
   ],
   "source": [
    "# Fetching the index position or value from the array.\n",
    "a1[0]"
   ]
  },
  {
   "cell_type": "code",
   "execution_count": 42,
   "id": "899d8a9c",
   "metadata": {},
   "outputs": [
    {
     "data": {
      "text/plain": [
       "array([1. , 2. , 3.3])"
      ]
     },
     "execution_count": 42,
     "metadata": {},
     "output_type": "execute_result"
    }
   ],
   "source": [
    "# Fetching the index postion fromt the array.\n",
    "a2[0]"
   ]
  },
  {
   "cell_type": "code",
   "execution_count": 43,
   "id": "1ecb7e65",
   "metadata": {},
   "outputs": [
    {
     "data": {
      "text/plain": [
       "array([4. , 5. , 6.5])"
      ]
     },
     "execution_count": 43,
     "metadata": {},
     "output_type": "execute_result"
    }
   ],
   "source": [
    "a2[1]"
   ]
  },
  {
   "cell_type": "code",
   "execution_count": 44,
   "id": "27fdebc4",
   "metadata": {},
   "outputs": [
    {
     "data": {
      "text/plain": [
       "array([[ 7,  8,  9],\n",
       "       [10, 11, 12]])"
      ]
     },
     "execution_count": 44,
     "metadata": {},
     "output_type": "execute_result"
    }
   ],
   "source": [
    "a3[1]"
   ]
  },
  {
   "cell_type": "code",
   "execution_count": 45,
   "id": "eb8e3e95",
   "metadata": {},
   "outputs": [
    {
     "data": {
      "text/plain": [
       "array([[10, 11, 12,  0],\n",
       "       [13, 14, 15,  0],\n",
       "       [16, 17, 18,  0],\n",
       "       [ 1,  1,  1,  1]])"
      ]
     },
     "execution_count": 45,
     "metadata": {},
     "output_type": "execute_result"
    }
   ],
   "source": [
    "a4[1]"
   ]
  },
  {
   "cell_type": "code",
   "execution_count": 46,
   "id": "95408035",
   "metadata": {},
   "outputs": [
    {
     "data": {
      "text/plain": [
       "array([[[ 1,  2,  3,  0],\n",
       "        [ 4,  5,  6,  0],\n",
       "        [ 7,  8,  9,  0],\n",
       "        [ 1,  1,  1,  1]],\n",
       "\n",
       "       [[10, 11, 12,  0],\n",
       "        [13, 14, 15,  0],\n",
       "        [16, 17, 18,  0],\n",
       "        [ 1,  1,  1,  1]],\n",
       "\n",
       "       [[19, 20, 21,  0],\n",
       "        [22, 23, 24,  0],\n",
       "        [25, 26, 27,  0],\n",
       "        [ 1,  1,  1,  1]],\n",
       "\n",
       "       [[28, 29, 30,  0],\n",
       "        [31, 32, 34,  0],\n",
       "        [35, 36, 37,  0],\n",
       "        [ 1,  1,  1,  1]]])"
      ]
     },
     "execution_count": 46,
     "metadata": {},
     "output_type": "execute_result"
    }
   ],
   "source": [
    "a4"
   ]
  },
  {
   "cell_type": "code",
   "execution_count": 47,
   "id": "1623c68d",
   "metadata": {},
   "outputs": [
    {
     "data": {
      "text/plain": [
       "array([[1, 2, 3, 0],\n",
       "       [4, 5, 6, 0],\n",
       "       [7, 8, 9, 0],\n",
       "       [1, 1, 1, 1]])"
      ]
     },
     "execution_count": 47,
     "metadata": {},
     "output_type": "execute_result"
    }
   ],
   "source": [
    "a4[0]"
   ]
  },
  {
   "cell_type": "code",
   "execution_count": 48,
   "id": "9711e1ad",
   "metadata": {},
   "outputs": [
    {
     "data": {
      "text/plain": [
       "array([[[ 1,  2,  3,  0],\n",
       "        [ 4,  5,  6,  0],\n",
       "        [ 7,  8,  9,  0],\n",
       "        [ 1,  1,  1,  1]],\n",
       "\n",
       "       [[10, 11, 12,  0],\n",
       "        [13, 14, 15,  0],\n",
       "        [16, 17, 18,  0],\n",
       "        [ 1,  1,  1,  1]],\n",
       "\n",
       "       [[19, 20, 21,  0],\n",
       "        [22, 23, 24,  0],\n",
       "        [25, 26, 27,  0],\n",
       "        [ 1,  1,  1,  1]],\n",
       "\n",
       "       [[28, 29, 30,  0],\n",
       "        [31, 32, 34,  0],\n",
       "        [35, 36, 37,  0],\n",
       "        [ 1,  1,  1,  1]]])"
      ]
     },
     "execution_count": 48,
     "metadata": {},
     "output_type": "execute_result"
    }
   ],
   "source": [
    "a4"
   ]
  },
  {
   "cell_type": "code",
   "execution_count": 49,
   "id": "316b0c4f",
   "metadata": {},
   "outputs": [
    {
     "data": {
      "text/plain": [
       "array([[[1, 2],\n",
       "        [4, 5],\n",
       "        [7, 8]]])"
      ]
     },
     "execution_count": 49,
     "metadata": {},
     "output_type": "execute_result"
    }
   ],
   "source": [
    "# Viewing the data in the list format : same as equals to list.\n",
    "# Below example works in the list format.:1-0 axis, :3 -0,1,2 rows, :2 0,1- columns\n",
    "# So the result is First axis , 3 row's and 2 column's.\n",
    "a4[:1,:3,:2]"
   ]
  },
  {
   "cell_type": "code",
   "execution_count": 50,
   "id": "ac17971d",
   "metadata": {},
   "outputs": [
    {
     "data": {
      "text/plain": [
       "array([[[ 1,  2,  3],\n",
       "        [ 4,  5,  6],\n",
       "        [ 7,  8,  9]],\n",
       "\n",
       "       [[10, 11, 12],\n",
       "        [13, 14, 15],\n",
       "        [16, 17, 18]]])"
      ]
     },
     "execution_count": 50,
     "metadata": {},
     "output_type": "execute_result"
    }
   ],
   "source": [
    "\n",
    "a4[:2,:3,:3]"
   ]
  },
  {
   "cell_type": "code",
   "execution_count": 51,
   "id": "2832045d",
   "metadata": {},
   "outputs": [
    {
     "data": {
      "text/plain": [
       "array([[[[0, 2, 3, 8, 1],\n",
       "         [3, 3, 3, 7, 0],\n",
       "         [1, 9, 9, 0, 4],\n",
       "         [7, 3, 2, 7, 2]],\n",
       "\n",
       "        [[0, 0, 4, 5, 5],\n",
       "         [6, 8, 4, 1, 4],\n",
       "         [9, 8, 1, 1, 7],\n",
       "         [9, 9, 3, 6, 7]],\n",
       "\n",
       "        [[2, 0, 3, 5, 9],\n",
       "         [4, 4, 6, 4, 4],\n",
       "         [3, 4, 4, 8, 4],\n",
       "         [3, 7, 5, 5, 0]]],\n",
       "\n",
       "\n",
       "       [[[1, 5, 9, 3, 0],\n",
       "         [5, 0, 1, 2, 4],\n",
       "         [2, 0, 3, 2, 0],\n",
       "         [7, 5, 9, 0, 2]],\n",
       "\n",
       "        [[7, 2, 9, 2, 3],\n",
       "         [3, 2, 3, 4, 1],\n",
       "         [2, 9, 1, 4, 6],\n",
       "         [8, 2, 3, 0, 0]],\n",
       "\n",
       "        [[6, 0, 6, 3, 3],\n",
       "         [8, 8, 8, 2, 3],\n",
       "         [2, 0, 8, 8, 3],\n",
       "         [8, 2, 8, 4, 3]]]])"
      ]
     },
     "execution_count": 51,
     "metadata": {},
     "output_type": "execute_result"
    }
   ],
   "source": [
    "# This is 4 dimensioanl array.\n",
    "a5= np.random.randint(10,size=(2,3,4,5))\n",
    "# This is how we read the multiple dimensional array's\n",
    "# 1) Read the righter most element (5) - 5 columns\n",
    "# 2) Read the 2nd righter most element (4) - 4 rows\n",
    "# 3) Read the 3rd righter most element (4) - 3 axis\n",
    "# 4) Read the 4th righter most element (4) - 2  the whole set is repeated twice simply 2 X (3x4x5)\n",
    "a5\n"
   ]
  },
  {
   "cell_type": "code",
   "execution_count": 52,
   "id": "d6c88f4a",
   "metadata": {},
   "outputs": [
    {
     "data": {
      "text/plain": [
       "array([[[0, 2, 3, 8, 1],\n",
       "        [3, 3, 3, 7, 0],\n",
       "        [1, 9, 9, 0, 4],\n",
       "        [7, 3, 2, 7, 2]],\n",
       "\n",
       "       [[0, 0, 4, 5, 5],\n",
       "        [6, 8, 4, 1, 4],\n",
       "        [9, 8, 1, 1, 7],\n",
       "        [9, 9, 3, 6, 7]],\n",
       "\n",
       "       [[2, 0, 3, 5, 9],\n",
       "        [4, 4, 6, 4, 4],\n",
       "        [3, 4, 4, 8, 4],\n",
       "        [3, 7, 5, 5, 0]]])"
      ]
     },
     "execution_count": 52,
     "metadata": {},
     "output_type": "execute_result"
    }
   ],
   "source": [
    "# Reading the multideimensonal array and getting the required element\n",
    "# We are fetching the outter set element from 2 X (3x4x5) = [0,1]\n",
    "a5[0]"
   ]
  },
  {
   "cell_type": "code",
   "execution_count": 53,
   "id": "e2828584",
   "metadata": {},
   "outputs": [
    {
     "data": {
      "text/plain": [
       "array([[0, 2, 3, 8, 1],\n",
       "       [3, 3, 3, 7, 0],\n",
       "       [1, 9, 9, 0, 4],\n",
       "       [7, 3, 2, 7, 2]])"
      ]
     },
     "execution_count": 53,
     "metadata": {},
     "output_type": "execute_result"
    }
   ],
   "source": [
    "# We are fetching the 1st outter set , 1st axis set element from 2 X (3x4x5) = [0,1]\n",
    "a5[0,0]"
   ]
  },
  {
   "cell_type": "code",
   "execution_count": 54,
   "id": "7b7a937d",
   "metadata": {},
   "outputs": [
    {
     "data": {
      "text/plain": [
       "array([0, 2, 3, 8, 1])"
      ]
     },
     "execution_count": 54,
     "metadata": {},
     "output_type": "execute_result"
    }
   ],
   "source": [
    "# We are fetching the 1st outter set , 1st axis set element, 1st axis set, 1st row  element from 2 X (3x4x5) = [0,1]\n",
    "a5[0,0,0]"
   ]
  },
  {
   "cell_type": "code",
   "execution_count": 55,
   "id": "77211e85",
   "metadata": {},
   "outputs": [
    {
     "data": {
      "text/plain": [
       "0"
      ]
     },
     "execution_count": 55,
     "metadata": {},
     "output_type": "execute_result"
    }
   ],
   "source": [
    "# We are fetching the 1st outter set , 1st axis set element, 1st axis set, 1st row ,1st columns element from 2 X (3x4x5) = [0,1]\n",
    "a5[0,0,0,0]"
   ]
  },
  {
   "cell_type": "code",
   "execution_count": 56,
   "id": "6c01c301",
   "metadata": {},
   "outputs": [
    {
     "data": {
      "text/plain": [
       "array([[[[0],\n",
       "         [3],\n",
       "         [1],\n",
       "         [7]],\n",
       "\n",
       "        [[0],\n",
       "         [6],\n",
       "         [9],\n",
       "         [9]],\n",
       "\n",
       "        [[2],\n",
       "         [4],\n",
       "         [3],\n",
       "         [3]]],\n",
       "\n",
       "\n",
       "       [[[1],\n",
       "         [5],\n",
       "         [2],\n",
       "         [7]],\n",
       "\n",
       "        [[7],\n",
       "         [3],\n",
       "         [2],\n",
       "         [8]],\n",
       "\n",
       "        [[6],\n",
       "         [8],\n",
       "         [2],\n",
       "         [8]]]])"
      ]
     },
     "execution_count": 56,
     "metadata": {},
     "output_type": "execute_result"
    }
   ],
   "source": [
    "a5[:,:,:,:1]"
   ]
  },
  {
   "cell_type": "markdown",
   "id": "3c831ed9",
   "metadata": {},
   "source": [
    "## 4 Manipulating & Comparing the Array's"
   ]
  },
  {
   "cell_type": "markdown",
   "id": "5007bfd9",
   "metadata": {},
   "source": [
    "   #### Arithmetic Operations on Array's."
   ]
  },
  {
   "cell_type": "code",
   "execution_count": 57,
   "id": "238fc749",
   "metadata": {},
   "outputs": [
    {
     "data": {
      "text/plain": [
       "array([1, 2, 3])"
      ]
     },
     "execution_count": 57,
     "metadata": {},
     "output_type": "execute_result"
    }
   ],
   "source": [
    "a1"
   ]
  },
  {
   "cell_type": "code",
   "execution_count": 58,
   "id": "ca8485ed",
   "metadata": {},
   "outputs": [],
   "source": [
    "ones = np.ones(3)"
   ]
  },
  {
   "cell_type": "code",
   "execution_count": 59,
   "id": "80e5eff2",
   "metadata": {},
   "outputs": [
    {
     "data": {
      "text/plain": [
       "array([2., 3., 4.])"
      ]
     },
     "execution_count": 59,
     "metadata": {},
     "output_type": "execute_result"
    }
   ],
   "source": [
    "# array is gettng manipulated in the below fashion.\n",
    "# 1+1 ,1+2 ,1+3\n",
    "a1+ones"
   ]
  },
  {
   "cell_type": "code",
   "execution_count": 60,
   "id": "9a40a3c3",
   "metadata": {},
   "outputs": [
    {
     "data": {
      "text/plain": [
       "array([[1. , 2. , 3.3],\n",
       "       [4. , 5. , 6.5]])"
      ]
     },
     "execution_count": 60,
     "metadata": {},
     "output_type": "execute_result"
    }
   ],
   "source": [
    "# a2 =a1-ones\n",
    "a2"
   ]
  },
  {
   "cell_type": "code",
   "execution_count": 61,
   "id": "c4f1c994",
   "metadata": {},
   "outputs": [
    {
     "ename": "IndentationError",
     "evalue": "unexpected indent (<ipython-input-61-cfbac6e2944c>, line 6)",
     "output_type": "error",
     "traceback": [
      "\u001b[0;36m  File \u001b[0;32m\"<ipython-input-61-cfbac6e2944c>\"\u001b[0;36m, line \u001b[0;32m6\u001b[0m\n\u001b[0;31m    3 , 3, 3.5\u001b[0m\n\u001b[0m    ^\u001b[0m\n\u001b[0;31mIndentationError\u001b[0m\u001b[0;31m:\u001b[0m unexpected indent\n"
     ]
    }
   ],
   "source": [
    "a2-a1\n",
    "\n",
    "\n",
    "# array([[1. , 2. , 3.3], \n",
    "#        [4. , 5. , 6.5]])        -     array([1, 2, 3])  = 1 , 0 , 0\n",
    "                                                            3 , 3, 3.5"
   ]
  },
  {
   "cell_type": "code",
   "execution_count": 62,
   "id": "c70f75ad",
   "metadata": {},
   "outputs": [
    {
     "data": {
      "text/plain": [
       "array([[ 1. ,  4. ,  9.9],\n",
       "       [ 4. , 10. , 19.5]])"
      ]
     },
     "execution_count": 62,
     "metadata": {},
     "output_type": "execute_result"
    }
   ],
   "source": [
    "a2 * a1"
   ]
  },
  {
   "cell_type": "code",
   "execution_count": 63,
   "id": "b6601146",
   "metadata": {},
   "outputs": [
    {
     "data": {
      "text/plain": [
       "array([[[ 1,  2,  3],\n",
       "        [ 4,  5,  6]],\n",
       "\n",
       "       [[ 7,  8,  9],\n",
       "        [10, 11, 12]],\n",
       "\n",
       "       [[13, 14, 15],\n",
       "        [16, 17, 18]]])"
      ]
     },
     "execution_count": 63,
     "metadata": {},
     "output_type": "execute_result"
    }
   ],
   "source": [
    "a3"
   ]
  },
  {
   "cell_type": "code",
   "execution_count": 64,
   "id": "6b637dad",
   "metadata": {},
   "outputs": [
    {
     "data": {
      "text/plain": [
       "(2, 3)"
      ]
     },
     "execution_count": 64,
     "metadata": {},
     "output_type": "execute_result"
    }
   ],
   "source": [
    "a2.shape\n"
   ]
  },
  {
   "cell_type": "code",
   "execution_count": 65,
   "id": "33b69ec0",
   "metadata": {},
   "outputs": [
    {
     "data": {
      "text/plain": [
       "(3, 2, 3)"
      ]
     },
     "execution_count": 65,
     "metadata": {},
     "output_type": "execute_result"
    }
   ],
   "source": [
    "a3.shape"
   ]
  },
  {
   "cell_type": "code",
   "execution_count": 66,
   "id": "e41a7c4a",
   "metadata": {},
   "outputs": [
    {
     "data": {
      "text/plain": [
       "array([[[  1. ,   4. ,   9.9],\n",
       "        [ 16. ,  25. ,  39. ]],\n",
       "\n",
       "       [[  7. ,  16. ,  29.7],\n",
       "        [ 40. ,  55. ,  78. ]],\n",
       "\n",
       "       [[ 13. ,  28. ,  49.5],\n",
       "        [ 64. ,  85. , 117. ]]])"
      ]
     },
     "execution_count": 66,
     "metadata": {},
     "output_type": "execute_result"
    }
   ],
   "source": [
    "a2*a3"
   ]
  },
  {
   "cell_type": "code",
   "execution_count": 67,
   "id": "d5b1fce9",
   "metadata": {},
   "outputs": [
    {
     "ename": "ValueError",
     "evalue": "operands could not be broadcast together with shapes (4,4,4) (3,2,3) ",
     "output_type": "error",
     "traceback": [
      "\u001b[0;31m---------------------------------------------------------------------------\u001b[0m",
      "\u001b[0;31mValueError\u001b[0m                                Traceback (most recent call last)",
      "\u001b[0;32m<ipython-input-67-71361f80897c>\u001b[0m in \u001b[0;36m<module>\u001b[0;34m\u001b[0m\n\u001b[0;32m----> 1\u001b[0;31m \u001b[0ma4\u001b[0m\u001b[0;34m*\u001b[0m\u001b[0ma3\u001b[0m\u001b[0;34m\u001b[0m\u001b[0;34m\u001b[0m\u001b[0m\n\u001b[0m",
      "\u001b[0;31mValueError\u001b[0m: operands could not be broadcast together with shapes (4,4,4) (3,2,3) "
     ]
    }
   ],
   "source": [
    "a4*a3"
   ]
  },
  {
   "cell_type": "code",
   "execution_count": 68,
   "id": "4db24d83",
   "metadata": {},
   "outputs": [],
   "source": [
    "# smaller array is broadcasted across the larger array to get the desired shape.\n",
    "# Boradcasting rules\n",
    "# When operating numpy arrays numpy compares their shapes elemnts wise, it starts with the trailing dimension's\n",
    "# and works its way forward. two dimensions are compatible when\n",
    "# 1) they are equal or\n",
    "# 2) one of them is 1\n"
   ]
  },
  {
   "cell_type": "code",
   "execution_count": 69,
   "id": "51731672",
   "metadata": {},
   "outputs": [
    {
     "data": {
      "text/plain": [
       "(4,)"
      ]
     },
     "execution_count": 69,
     "metadata": {},
     "output_type": "execute_result"
    }
   ],
   "source": [
    "t1 = np.array([3,2,1,6])\n",
    "t1.shape\n",
    "\n",
    "\n",
    "\n"
   ]
  },
  {
   "cell_type": "code",
   "execution_count": 70,
   "id": "29072dc7",
   "metadata": {},
   "outputs": [
    {
     "data": {
      "text/plain": [
       "array([[ 36,  30,   0,  18],\n",
       "       [  9,  14,   9, 114],\n",
       "       [ 54,   8,   6,  72]])"
      ]
     },
     "execution_count": 70,
     "metadata": {},
     "output_type": "execute_result"
    }
   ],
   "source": [
    "np.random.seed(0)\n",
    "t2= np.random.randint(20, size=(3,4))\n",
    "\n",
    "t2 *t1"
   ]
  },
  {
   "cell_type": "code",
   "execution_count": 71,
   "id": "222bf47e",
   "metadata": {},
   "outputs": [
    {
     "data": {
      "text/plain": [
       "(4,)"
      ]
     },
     "execution_count": 71,
     "metadata": {},
     "output_type": "execute_result"
    }
   ],
   "source": [
    "t1.shape"
   ]
  },
  {
   "cell_type": "code",
   "execution_count": 72,
   "id": "068fdaca",
   "metadata": {},
   "outputs": [
    {
     "data": {
      "text/plain": [
       "(3, 4)"
      ]
     },
     "execution_count": 72,
     "metadata": {},
     "output_type": "execute_result"
    }
   ],
   "source": [
    "t2.shape\n"
   ]
  },
  {
   "cell_type": "code",
   "execution_count": 73,
   "id": "47ed4c72",
   "metadata": {},
   "outputs": [
    {
     "data": {
      "text/plain": [
       "array([[ 36,  30,   0,  18],\n",
       "       [  9,  14,   9, 114],\n",
       "       [ 54,   8,   6,  72]])"
      ]
     },
     "execution_count": 73,
     "metadata": {},
     "output_type": "execute_result"
    }
   ],
   "source": [
    "t2*t1"
   ]
  },
  {
   "cell_type": "code",
   "execution_count": 74,
   "id": "8173134a",
   "metadata": {},
   "outputs": [
    {
     "data": {
      "text/plain": [
       "array([1, 2, 3])"
      ]
     },
     "execution_count": 74,
     "metadata": {},
     "output_type": "execute_result"
    }
   ],
   "source": [
    "a1"
   ]
  },
  {
   "cell_type": "code",
   "execution_count": 75,
   "id": "2bcd4cc2",
   "metadata": {},
   "outputs": [
    {
     "data": {
      "text/plain": [
       "array([1., 2., 3.])"
      ]
     },
     "execution_count": 75,
     "metadata": {},
     "output_type": "execute_result"
    }
   ],
   "source": [
    "# Floor Division\n",
    "a1 // ones"
   ]
  },
  {
   "cell_type": "code",
   "execution_count": 76,
   "id": "bf5341b8",
   "metadata": {},
   "outputs": [
    {
     "data": {
      "text/plain": [
       "array([[1. , 2. , 3.3],\n",
       "       [4. , 5. , 6.5]])"
      ]
     },
     "execution_count": 76,
     "metadata": {},
     "output_type": "execute_result"
    }
   ],
   "source": [
    "a2"
   ]
  },
  {
   "cell_type": "code",
   "execution_count": 77,
   "id": "7f4425e0",
   "metadata": {},
   "outputs": [
    {
     "data": {
      "text/plain": [
       "(2, 3)"
      ]
     },
     "execution_count": 77,
     "metadata": {},
     "output_type": "execute_result"
    }
   ],
   "source": [
    "a2.shape"
   ]
  },
  {
   "cell_type": "code",
   "execution_count": 78,
   "id": "0a9c2261",
   "metadata": {},
   "outputs": [
    {
     "data": {
      "text/plain": [
       "(3,)"
      ]
     },
     "execution_count": 78,
     "metadata": {},
     "output_type": "execute_result"
    }
   ],
   "source": [
    "a1.shape"
   ]
  },
  {
   "cell_type": "code",
   "execution_count": 79,
   "id": "09bedebc",
   "metadata": {},
   "outputs": [
    {
     "data": {
      "text/plain": [
       "array([[1.        , 1.        , 1.1       ],\n",
       "       [4.        , 2.5       , 2.16666667]])"
      ]
     },
     "execution_count": 79,
     "metadata": {},
     "output_type": "execute_result"
    }
   ],
   "source": [
    "a2/ a1"
   ]
  },
  {
   "cell_type": "code",
   "execution_count": 80,
   "id": "31a73f7e",
   "metadata": {},
   "outputs": [
    {
     "data": {
      "text/plain": [
       "array([[ 1.  ,  4.  , 10.89],\n",
       "       [16.  , 25.  , 42.25]])"
      ]
     },
     "execution_count": 80,
     "metadata": {},
     "output_type": "execute_result"
    }
   ],
   "source": [
    "a2 ** 2"
   ]
  },
  {
   "cell_type": "code",
   "execution_count": 81,
   "id": "98b73384",
   "metadata": {},
   "outputs": [
    {
     "data": {
      "text/plain": [
       "array([[ 1.  ,  4.  , 10.89],\n",
       "       [16.  , 25.  , 42.25]])"
      ]
     },
     "execution_count": 81,
     "metadata": {},
     "output_type": "execute_result"
    }
   ],
   "source": [
    "np.square(a2)"
   ]
  },
  {
   "cell_type": "code",
   "execution_count": 82,
   "id": "cb9db4b1",
   "metadata": {},
   "outputs": [
    {
     "data": {
      "text/plain": [
       "array([[2. , 4. , 6.3],\n",
       "       [5. , 7. , 9.5]])"
      ]
     },
     "execution_count": 82,
     "metadata": {},
     "output_type": "execute_result"
    }
   ],
   "source": [
    "np.add(a1,a2)"
   ]
  },
  {
   "cell_type": "code",
   "execution_count": 83,
   "id": "8aa3048f",
   "metadata": {},
   "outputs": [
    {
     "data": {
      "text/plain": [
       "array([1, 0, 1])"
      ]
     },
     "execution_count": 83,
     "metadata": {},
     "output_type": "execute_result"
    }
   ],
   "source": [
    "## Remainder of the result\n",
    "a1 % 2"
   ]
  },
  {
   "cell_type": "code",
   "execution_count": 84,
   "id": "42350e41",
   "metadata": {},
   "outputs": [
    {
     "data": {
      "text/plain": [
       "array([[1. , 0. , 1.3],\n",
       "       [0. , 1. , 0.5]])"
      ]
     },
     "execution_count": 84,
     "metadata": {},
     "output_type": "execute_result"
    }
   ],
   "source": [
    "a2 % 2"
   ]
  },
  {
   "cell_type": "code",
   "execution_count": 85,
   "id": "6c7a49bc",
   "metadata": {},
   "outputs": [
    {
     "data": {
      "text/plain": [
       "array([ 2.71828183,  7.3890561 , 20.08553692])"
      ]
     },
     "execution_count": 85,
     "metadata": {},
     "output_type": "execute_result"
    }
   ],
   "source": [
    "np.exp(a1)"
   ]
  },
  {
   "cell_type": "code",
   "execution_count": 86,
   "id": "d7e97ecb",
   "metadata": {},
   "outputs": [
    {
     "data": {
      "text/plain": [
       "array([0.        , 0.69314718, 1.09861229])"
      ]
     },
     "execution_count": 86,
     "metadata": {},
     "output_type": "execute_result"
    }
   ],
   "source": [
    "np.log(a1)"
   ]
  },
  {
   "cell_type": "code",
   "execution_count": 87,
   "id": "f69ac994",
   "metadata": {},
   "outputs": [
    {
     "name": "stderr",
     "output_type": "stream",
     "text": [
      "<ipython-input-87-1bc303ef673c>:3: RuntimeWarning: divide by zero encountered in true_divide\n",
      "  a1 / 0\n"
     ]
    },
    {
     "data": {
      "text/plain": [
       "array([inf, inf, inf])"
      ]
     },
     "execution_count": 87,
     "metadata": {},
     "output_type": "execute_result"
    }
   ],
   "source": [
    "# In python anything dividided by 0 results zero division error.\n",
    "# But incase of numpy it resturns inf(infinity)\n",
    "a1 / 0"
   ]
  },
  {
   "cell_type": "markdown",
   "id": "eead8e45",
   "metadata": {},
   "source": [
    "### Aggregation of Numpy Array's"
   ]
  },
  {
   "cell_type": "code",
   "execution_count": 88,
   "id": "892b73f2",
   "metadata": {},
   "outputs": [
    {
     "data": {
      "text/plain": [
       "list"
      ]
     },
     "execution_count": 88,
     "metadata": {},
     "output_type": "execute_result"
    }
   ],
   "source": [
    "listy_list = [1,2,3]\n",
    "type(listy_list)"
   ]
  },
  {
   "cell_type": "code",
   "execution_count": 89,
   "id": "79f6456c",
   "metadata": {},
   "outputs": [
    {
     "data": {
      "text/plain": [
       "6"
      ]
     },
     "execution_count": 89,
     "metadata": {},
     "output_type": "execute_result"
    }
   ],
   "source": [
    "## sum of elements provided in the list.\n",
    "sum(listy_list)"
   ]
  },
  {
   "cell_type": "code",
   "execution_count": 90,
   "id": "f84efe9a",
   "metadata": {},
   "outputs": [
    {
     "data": {
      "text/plain": [
       "6"
      ]
     },
     "execution_count": 90,
     "metadata": {},
     "output_type": "execute_result"
    }
   ],
   "source": [
    "## Python sum function()\n",
    "sum(a1)"
   ]
  },
  {
   "cell_type": "code",
   "execution_count": 91,
   "id": "33f2c519",
   "metadata": {},
   "outputs": [
    {
     "data": {
      "text/plain": [
       "6"
      ]
     },
     "execution_count": 91,
     "metadata": {},
     "output_type": "execute_result"
    }
   ],
   "source": [
    "## Numpy sum method.\n",
    "np.sum(a1)"
   ]
  },
  {
   "cell_type": "code",
   "execution_count": 92,
   "id": "b463fff4",
   "metadata": {},
   "outputs": [
    {
     "data": {
      "text/plain": [
       "array([0.38344152, 0.79172504, 0.52889492, ..., 0.95573175, 0.03659582,\n",
       "       0.60934925])"
      ]
     },
     "execution_count": 92,
     "metadata": {},
     "output_type": "execute_result"
    }
   ],
   "source": [
    "# Creating a massive numpy array.\n",
    "massive_array = np.random.random(1000000)\n",
    "massive_array"
   ]
  },
  {
   "cell_type": "code",
   "execution_count": 93,
   "id": "2ce507a1",
   "metadata": {},
   "outputs": [
    {
     "data": {
      "text/plain": [
       "array([0.38344152, 0.79172504, 0.52889492, 0.56804456, 0.92559664,\n",
       "       0.07103606, 0.0871293 , 0.0202184 , 0.83261985, 0.77815675])"
      ]
     },
     "execution_count": 93,
     "metadata": {},
     "output_type": "execute_result"
    }
   ],
   "source": [
    "massive_array[:10]"
   ]
  },
  {
   "cell_type": "code",
   "execution_count": 94,
   "id": "49b43d51",
   "metadata": {},
   "outputs": [
    {
     "name": "stdout",
     "output_type": "stream",
     "text": [
      "198 ms ± 4.32 ms per loop (mean ± std. dev. of 7 runs, 10 loops each)\n",
      "535 µs ± 14.4 µs per loop (mean ± std. dev. of 7 runs, 1000 loops each)\n"
     ]
    }
   ],
   "source": [
    "%timeit sum(massive_array) # python's Sum (mill seconds)\n",
    "%timeit np.sum(massive_array) # numpy'Sum (micro seconds)"
   ]
  },
  {
   "cell_type": "markdown",
   "id": "86c1668b",
   "metadata": {},
   "source": [
    "### Note:  if we are using numpy's data use numpy's function , if we are using python data letss use python's fucntion's"
   ]
  },
  {
   "cell_type": "code",
   "execution_count": 95,
   "id": "8ec491d8",
   "metadata": {},
   "outputs": [
    {
     "data": {
      "text/plain": [
       "array([[1. , 2. , 3.3],\n",
       "       [4. , 5. , 6.5]])"
      ]
     },
     "execution_count": 95,
     "metadata": {},
     "output_type": "execute_result"
    }
   ],
   "source": [
    "a2"
   ]
  },
  {
   "cell_type": "code",
   "execution_count": 96,
   "id": "35c3d865",
   "metadata": {},
   "outputs": [
    {
     "data": {
      "text/plain": [
       "1.0"
      ]
     },
     "execution_count": 96,
     "metadata": {},
     "output_type": "execute_result"
    }
   ],
   "source": [
    "np.min(a2)"
   ]
  },
  {
   "cell_type": "code",
   "execution_count": 97,
   "id": "904f9a18",
   "metadata": {},
   "outputs": [
    {
     "data": {
      "text/plain": [
       "6.5"
      ]
     },
     "execution_count": 97,
     "metadata": {},
     "output_type": "execute_result"
    }
   ],
   "source": [
    "np.max(a2)"
   ]
  },
  {
   "cell_type": "code",
   "execution_count": 98,
   "id": "a7c47fc5",
   "metadata": {},
   "outputs": [
    {
     "data": {
      "text/plain": [
       "1.8226964152656422"
      ]
     },
     "execution_count": 98,
     "metadata": {},
     "output_type": "execute_result"
    }
   ],
   "source": [
    "np.std(a2)"
   ]
  },
  {
   "cell_type": "code",
   "execution_count": 99,
   "id": "695bf7a7",
   "metadata": {},
   "outputs": [
    {
     "data": {
      "text/plain": [
       "3.3222222222222224"
      ]
     },
     "execution_count": 99,
     "metadata": {},
     "output_type": "execute_result"
    }
   ],
   "source": [
    "np.var(a2)"
   ]
  },
  {
   "cell_type": "code",
   "execution_count": 100,
   "id": "47055fe7",
   "metadata": {},
   "outputs": [
    {
     "data": {
      "text/plain": [
       "0.816496580927726"
      ]
     },
     "execution_count": 100,
     "metadata": {},
     "output_type": "execute_result"
    }
   ],
   "source": [
    "# Standard deviation = a measureof how spread out a group of numbers is  from the mean.\n",
    "np.std(a1)"
   ]
  },
  {
   "cell_type": "code",
   "execution_count": 101,
   "id": "65f41379",
   "metadata": {},
   "outputs": [
    {
     "data": {
      "text/plain": [
       "0.6666666666666666"
      ]
     },
     "execution_count": 101,
     "metadata": {},
     "output_type": "execute_result"
    }
   ],
   "source": [
    "np.var(a1)"
   ]
  },
  {
   "cell_type": "code",
   "execution_count": 102,
   "id": "74e163f8",
   "metadata": {},
   "outputs": [
    {
     "data": {
      "text/plain": [
       "0.816496580927726"
      ]
     },
     "execution_count": 102,
     "metadata": {},
     "output_type": "execute_result"
    }
   ],
   "source": [
    "# standad deviation = square root of variance.\n",
    "x1= np.var(a1)\n",
    "np.sqrt(x1)"
   ]
  },
  {
   "cell_type": "code",
   "execution_count": 103,
   "id": "545350b7",
   "metadata": {},
   "outputs": [],
   "source": [
    "# The below high_var_array values are highly spreaded.\n",
    "high_var_array = np.array([1,100,200,300,4000,5000]) # wider range of number's.\n",
    "# The below low_var_array values are lessly spreaded.\n",
    "low_var_array = np.array([2,4,6,8,10]) # lower range of numbers."
   ]
  },
  {
   "cell_type": "code",
   "execution_count": 104,
   "id": "b6b8b94b",
   "metadata": {},
   "outputs": [
    {
     "data": {
      "text/plain": [
       "(4296133.472222221, 8.0)"
      ]
     },
     "execution_count": 104,
     "metadata": {},
     "output_type": "execute_result"
    }
   ],
   "source": [
    "np.var(high_var_array) , np.var(low_var_array)"
   ]
  },
  {
   "cell_type": "code",
   "execution_count": 105,
   "id": "779450e7",
   "metadata": {},
   "outputs": [
    {
     "data": {
      "text/plain": [
       "(2072.711623024829, 2.8284271247461903)"
      ]
     },
     "execution_count": 105,
     "metadata": {},
     "output_type": "execute_result"
    }
   ],
   "source": [
    "np.std(high_var_array) , np.std(low_var_array)"
   ]
  },
  {
   "cell_type": "code",
   "execution_count": 106,
   "id": "ab10c71e",
   "metadata": {},
   "outputs": [
    {
     "data": {
      "text/plain": [
       "(1600.1666666666667, 6.0)"
      ]
     },
     "execution_count": 106,
     "metadata": {},
     "output_type": "execute_result"
    }
   ],
   "source": [
    "np.mean(high_var_array), np.mean(low_var_array)"
   ]
  },
  {
   "cell_type": "code",
   "execution_count": 107,
   "id": "bd83d582",
   "metadata": {},
   "outputs": [
    {
     "data": {
      "text/plain": [
       "array([   1,  100,  200,  300, 4000, 5000])"
      ]
     },
     "execution_count": 107,
     "metadata": {},
     "output_type": "execute_result"
    }
   ],
   "source": [
    "high_var_array"
   ]
  },
  {
   "cell_type": "code",
   "execution_count": 108,
   "id": "1bd9a796",
   "metadata": {},
   "outputs": [
    {
     "data": {
      "image/png": "[encoded data removed]",
      "text/plain": [
       "<Figure size 432x288 with 1 Axes>"
      ]
     },
     "metadata": {
      "needs_background": "light"
     },
     "output_type": "display_data"
    }
   ],
   "source": [
    "%matplotlib inline\n",
    "plt.hist(high_var_array)\n",
    "plt.show()\n",
    "# There are 4 values within a range of 1 to 100 & 1 value each in a rnge of 4000 and 5000"
   ]
  },
  {
   "cell_type": "code",
   "execution_count": 109,
   "id": "07ffbb25",
   "metadata": {},
   "outputs": [
    {
     "data": {
      "text/plain": [
       "array([ 2,  4,  6,  8, 10])"
      ]
     },
     "execution_count": 109,
     "metadata": {},
     "output_type": "execute_result"
    }
   ],
   "source": [
    "low_var_array"
   ]
  },
  {
   "cell_type": "code",
   "execution_count": 110,
   "id": "f55cb272",
   "metadata": {},
   "outputs": [
    {
     "data": {
      "image/png": "[encoded data removed]",
      "text/plain": [
       "<Figure size 432x288 with 1 Axes>"
      ]
     },
     "metadata": {
      "needs_background": "light"
     },
     "output_type": "display_data"
    }
   ],
   "source": [
    "plt.hist(low_var_array)\n",
    "plt.show()"
   ]
  },
  {
   "cell_type": "markdown",
   "id": "76b735ed",
   "metadata": {},
   "source": [
    "### Reshaping & Transposing of Data."
   ]
  },
  {
   "cell_type": "code",
   "execution_count": 286,
   "id": "20ff48e6",
   "metadata": {},
   "outputs": [],
   "source": [
    "a3= np.array([[[1,2,3],[4,5,6],[7,8,9]],[[10,11,12],[13,14,15],[16,17,18]]])"
   ]
  },
  {
   "cell_type": "code",
   "execution_count": 118,
   "id": "17599945",
   "metadata": {},
   "outputs": [
    {
     "data": {
      "text/plain": [
       "array([[[ 1,  2,  3],\n",
       "        [ 4,  5,  6],\n",
       "        [ 7,  8,  9]],\n",
       "\n",
       "       [[10, 11, 12],\n",
       "        [13, 14, 15],\n",
       "        [16, 17, 18]]])"
      ]
     },
     "execution_count": 118,
     "metadata": {},
     "output_type": "execute_result"
    }
   ],
   "source": [
    "a3"
   ]
  },
  {
   "cell_type": "code",
   "execution_count": 127,
   "id": "22c6f2d5",
   "metadata": {},
   "outputs": [
    {
     "data": {
      "text/plain": [
       "array([[1. , 2. , 3.3],\n",
       "       [4. , 5. , 6.5]])"
      ]
     },
     "execution_count": 127,
     "metadata": {},
     "output_type": "execute_result"
    }
   ],
   "source": [
    "a2"
   ]
  },
  {
   "cell_type": "code",
   "execution_count": 129,
   "id": "894e831e",
   "metadata": {},
   "outputs": [
    {
     "data": {
      "text/plain": [
       "((2, 3), (2, 3, 3))"
      ]
     },
     "execution_count": 129,
     "metadata": {},
     "output_type": "execute_result"
    }
   ],
   "source": [
    "a2.shape , a3.shape"
   ]
  },
  {
   "cell_type": "code",
   "execution_count": 149,
   "id": "ad9f5f3f",
   "metadata": {},
   "outputs": [
    {
     "ename": "ValueError",
     "evalue": "operands could not be broadcast together with shapes (2,3) (2,3,3) ",
     "output_type": "error",
     "traceback": [
      "\u001b[0;31m---------------------------------------------------------------------------\u001b[0m",
      "\u001b[0;31mValueError\u001b[0m                                Traceback (most recent call last)",
      "\u001b[0;32m<ipython-input-149-e78a3a07c1a0>\u001b[0m in \u001b[0;36m<module>\u001b[0;34m\u001b[0m\n\u001b[0;32m----> 1\u001b[0;31m \u001b[0ma2\u001b[0m\u001b[0;34m*\u001b[0m\u001b[0ma3\u001b[0m\u001b[0;34m\u001b[0m\u001b[0;34m\u001b[0m\u001b[0m\n\u001b[0m",
      "\u001b[0;31mValueError\u001b[0m: operands could not be broadcast together with shapes (2,3) (2,3,3) "
     ]
    }
   ],
   "source": [
    "a2*a3"
   ]
  },
  {
   "cell_type": "code",
   "execution_count": 323,
   "id": "ebccc48c",
   "metadata": {},
   "outputs": [
    {
     "data": {
      "text/plain": [
       "array([[[  1. ,   2. ,   3. ],\n",
       "        [  8. ,  10. ,  12. ],\n",
       "        [ 23.1,  26.4,  29.7]],\n",
       "\n",
       "       [[ 40. ,  44. ,  48. ],\n",
       "        [ 65. ,  70. ,  75. ],\n",
       "        [104. , 110.5, 117. ]]])"
      ]
     },
     "execution_count": 323,
     "metadata": {},
     "output_type": "execute_result"
    }
   ],
   "source": [
    "a2_reshape= a2.reshape(2,3,1)\n",
    "a2_reshape\n",
    "a2_reshape*a3"
   ]
  },
  {
   "cell_type": "code",
   "execution_count": 324,
   "id": "56d7982d",
   "metadata": {},
   "outputs": [
    {
     "data": {
      "text/plain": [
       "array([[[  1. ,   4. ,   9.9],\n",
       "        [  4. ,  10. ,  19.8],\n",
       "        [  7. ,  16. ,  29.7]],\n",
       "\n",
       "       [[ 40. ,  55. ,  78. ],\n",
       "        [ 52. ,  70. ,  97.5],\n",
       "        [ 64. ,  85. , 117. ]]])"
      ]
     },
     "execution_count": 324,
     "metadata": {},
     "output_type": "execute_result"
    }
   ],
   "source": [
    "a2_reshape= a2.reshape(2,1,3)\n",
    "a2_reshape*a3\n"
   ]
  },
  {
   "cell_type": "code",
   "execution_count": 330,
   "id": "7f744bcf",
   "metadata": {},
   "outputs": [
    {
     "data": {
      "text/plain": [
       "array([[1. , 2. , 3.3],\n",
       "       [4. , 5. , 6.5]])"
      ]
     },
     "execution_count": 330,
     "metadata": {},
     "output_type": "execute_result"
    }
   ],
   "source": [
    "a2\n"
   ]
  },
  {
   "cell_type": "code",
   "execution_count": 331,
   "id": "4ed67870",
   "metadata": {},
   "outputs": [
    {
     "data": {
      "text/plain": [
       "(2, 3)"
      ]
     },
     "execution_count": 331,
     "metadata": {},
     "output_type": "execute_result"
    }
   ],
   "source": [
    "a2.shape"
   ]
  },
  {
   "cell_type": "code",
   "execution_count": 332,
   "id": "f2a8dfe3",
   "metadata": {},
   "outputs": [],
   "source": [
    "exshape = np.zeros((1,3,4))"
   ]
  },
  {
   "cell_type": "code",
   "execution_count": 328,
   "id": "e230a4dd",
   "metadata": {},
   "outputs": [
    {
     "data": {
      "text/plain": [
       "array([[[0., 0., 0., 0.],\n",
       "        [0., 0., 0., 0.],\n",
       "        [0., 0., 0., 0.]]])"
      ]
     },
     "execution_count": 328,
     "metadata": {},
     "output_type": "execute_result"
    }
   ],
   "source": [
    "exshape"
   ]
  },
  {
   "cell_type": "code",
   "execution_count": 333,
   "id": "6affb29d",
   "metadata": {},
   "outputs": [
    {
     "ename": "ValueError",
     "evalue": "operands could not be broadcast together with shapes (2,3) (2,3,3) ",
     "output_type": "error",
     "traceback": [
      "\u001b[0;31m---------------------------------------------------------------------------\u001b[0m",
      "\u001b[0;31mValueError\u001b[0m                                Traceback (most recent call last)",
      "\u001b[0;32m<ipython-input-333-e78a3a07c1a0>\u001b[0m in \u001b[0;36m<module>\u001b[0;34m\u001b[0m\n\u001b[0;32m----> 1\u001b[0;31m \u001b[0ma2\u001b[0m\u001b[0;34m*\u001b[0m\u001b[0ma3\u001b[0m\u001b[0;34m\u001b[0m\u001b[0;34m\u001b[0m\u001b[0m\n\u001b[0m",
      "\u001b[0;31mValueError\u001b[0m: operands could not be broadcast together with shapes (2,3) (2,3,3) "
     ]
    }
   ],
   "source": [
    "a2*a3"
   ]
  },
  {
   "cell_type": "code",
   "execution_count": 334,
   "id": "65aaab6e",
   "metadata": {},
   "outputs": [
    {
     "data": {
      "text/plain": [
       "((2, 3), (1, 3, 4))"
      ]
     },
     "execution_count": 334,
     "metadata": {},
     "output_type": "execute_result"
    }
   ],
   "source": [
    "a2.shape , exshape.shape"
   ]
  },
  {
   "cell_type": "code",
   "execution_count": 308,
   "id": "111d3828",
   "metadata": {},
   "outputs": [
    {
     "ename": "ValueError",
     "evalue": "operands could not be broadcast together with shapes (2,3) (1,3,4) ",
     "output_type": "error",
     "traceback": [
      "\u001b[0;31m---------------------------------------------------------------------------\u001b[0m",
      "\u001b[0;31mValueError\u001b[0m                                Traceback (most recent call last)",
      "\u001b[0;32m<ipython-input-308-9818cc0a39a6>\u001b[0m in \u001b[0;36m<module>\u001b[0;34m\u001b[0m\n\u001b[0;32m----> 1\u001b[0;31m \u001b[0ma2\u001b[0m\u001b[0;34m*\u001b[0m\u001b[0mexshape\u001b[0m\u001b[0;34m\u001b[0m\u001b[0;34m\u001b[0m\u001b[0m\n\u001b[0m",
      "\u001b[0;31mValueError\u001b[0m: operands could not be broadcast together with shapes (2,3) (1,3,4) "
     ]
    }
   ],
   "source": [
    "a2*exshape"
   ]
  },
  {
   "cell_type": "code",
   "execution_count": 319,
   "id": "9cdb5b50",
   "metadata": {},
   "outputs": [],
   "source": [
    "exshape1= a2.reshape(3,2,1)"
   ]
  },
  {
   "cell_type": "code",
   "execution_count": 320,
   "id": "ca27d2f2",
   "metadata": {},
   "outputs": [
    {
     "data": {
      "text/plain": [
       "array([[[1. ],\n",
       "        [2. ]],\n",
       "\n",
       "       [[3.3],\n",
       "        [4. ]],\n",
       "\n",
       "       [[5. ],\n",
       "        [6.5]]])"
      ]
     },
     "execution_count": 320,
     "metadata": {},
     "output_type": "execute_result"
    }
   ],
   "source": [
    "exshape1"
   ]
  },
  {
   "cell_type": "code",
   "execution_count": 322,
   "id": "7c2b037e",
   "metadata": {},
   "outputs": [
    {
     "ename": "ValueError",
     "evalue": "operands could not be broadcast together with shapes (1,3,4) (3,2,1) ",
     "output_type": "error",
     "traceback": [
      "\u001b[0;31m---------------------------------------------------------------------------\u001b[0m",
      "\u001b[0;31mValueError\u001b[0m                                Traceback (most recent call last)",
      "\u001b[0;32m<ipython-input-322-b35cf11169bd>\u001b[0m in \u001b[0;36m<module>\u001b[0;34m\u001b[0m\n\u001b[0;32m----> 1\u001b[0;31m \u001b[0mexshape\u001b[0m \u001b[0;34m*\u001b[0m \u001b[0mexshape1\u001b[0m\u001b[0;34m\u001b[0m\u001b[0;34m\u001b[0m\u001b[0m\n\u001b[0m",
      "\u001b[0;31mValueError\u001b[0m: operands could not be broadcast together with shapes (1,3,4) (3,2,1) "
     ]
    }
   ],
   "source": [
    "exshape * exshape1"
   ]
  },
  {
   "cell_type": "code",
   "execution_count": 173,
   "id": "7bcf077c",
   "metadata": {},
   "outputs": [
    {
     "data": {
      "text/plain": [
       "array([[1. , 2. , 3.3],\n",
       "       [4. , 5. , 6.5]])"
      ]
     },
     "execution_count": 173,
     "metadata": {},
     "output_type": "execute_result"
    }
   ],
   "source": [
    "a2"
   ]
  },
  {
   "cell_type": "code",
   "execution_count": 179,
   "id": "f159a69a",
   "metadata": {},
   "outputs": [
    {
     "data": {
      "text/plain": [
       "array([[1. , 4. ],\n",
       "       [2. , 5. ],\n",
       "       [3.3, 6.5]])"
      ]
     },
     "execution_count": 179,
     "metadata": {},
     "output_type": "execute_result"
    }
   ],
   "source": [
    "Ta2= a2.T\n",
    "Ta2"
   ]
  },
  {
   "cell_type": "code",
   "execution_count": 181,
   "id": "077b6670",
   "metadata": {},
   "outputs": [
    {
     "data": {
      "text/plain": [
       "array([[1. , 2. , 3.3],\n",
       "       [4. , 5. , 6.5]])"
      ]
     },
     "execution_count": 181,
     "metadata": {},
     "output_type": "execute_result"
    }
   ],
   "source": [
    "Ta2= a2.T\n",
    "Ta2.T"
   ]
  },
  {
   "cell_type": "markdown",
   "id": "abf3845d",
   "metadata": {},
   "source": [
    "## Dot Product"
   ]
  },
  {
   "cell_type": "code",
   "execution_count": 182,
   "id": "4883f980",
   "metadata": {},
   "outputs": [],
   "source": [
    "np.random.seed(0)\n",
    "mat1= np.random.randint(10,size=(5,3))\n",
    "mat2= np.random.randint(10,size=(5,3))"
   ]
  },
  {
   "cell_type": "code",
   "execution_count": 183,
   "id": "0f9b4e16",
   "metadata": {},
   "outputs": [
    {
     "data": {
      "text/plain": [
       "array([[5, 0, 3],\n",
       "       [3, 7, 9],\n",
       "       [3, 5, 2],\n",
       "       [4, 7, 6],\n",
       "       [8, 8, 1]])"
      ]
     },
     "execution_count": 183,
     "metadata": {},
     "output_type": "execute_result"
    }
   ],
   "source": [
    "mat1"
   ]
  },
  {
   "cell_type": "code",
   "execution_count": 184,
   "id": "365b9688",
   "metadata": {},
   "outputs": [
    {
     "data": {
      "text/plain": [
       "array([[6, 7, 7],\n",
       "       [8, 1, 5],\n",
       "       [9, 8, 9],\n",
       "       [4, 3, 0],\n",
       "       [3, 5, 0]])"
      ]
     },
     "execution_count": 184,
     "metadata": {},
     "output_type": "execute_result"
    }
   ],
   "source": [
    "mat2"
   ]
  },
  {
   "cell_type": "code",
   "execution_count": 185,
   "id": "4ed6dd53",
   "metadata": {},
   "outputs": [
    {
     "data": {
      "text/plain": [
       "((5, 3), (5, 3))"
      ]
     },
     "execution_count": 185,
     "metadata": {},
     "output_type": "execute_result"
    }
   ],
   "source": [
    "mat1.shape,mat2.shape"
   ]
  },
  {
   "cell_type": "code",
   "execution_count": 186,
   "id": "4231ca51",
   "metadata": {},
   "outputs": [
    {
     "data": {
      "text/plain": [
       "array([[30,  0, 21],\n",
       "       [24,  7, 45],\n",
       "       [27, 40, 18],\n",
       "       [16, 21,  0],\n",
       "       [24, 40,  0]])"
      ]
     },
     "execution_count": 186,
     "metadata": {},
     "output_type": "execute_result"
    }
   ],
   "source": [
    "#Elemnt wise multiplication\n",
    "mat1*mat2"
   ]
  },
  {
   "cell_type": "code",
   "execution_count": 187,
   "id": "f49359d3",
   "metadata": {},
   "outputs": [
    {
     "ename": "ValueError",
     "evalue": "shapes (5,3) and (5,3) not aligned: 3 (dim 1) != 5 (dim 0)",
     "output_type": "error",
     "traceback": [
      "\u001b[0;31m---------------------------------------------------------------------------\u001b[0m",
      "\u001b[0;31mValueError\u001b[0m                                Traceback (most recent call last)",
      "\u001b[0;32m<ipython-input-187-27a4b43daafb>\u001b[0m in \u001b[0;36m<module>\u001b[0;34m\u001b[0m\n\u001b[1;32m      1\u001b[0m \u001b[0;31m# Dot product\u001b[0m\u001b[0;34m\u001b[0m\u001b[0;34m\u001b[0m\u001b[0;34m\u001b[0m\u001b[0m\n\u001b[0;32m----> 2\u001b[0;31m \u001b[0mnp\u001b[0m\u001b[0;34m.\u001b[0m\u001b[0mdot\u001b[0m\u001b[0;34m(\u001b[0m\u001b[0mmat1\u001b[0m\u001b[0;34m,\u001b[0m\u001b[0mmat2\u001b[0m\u001b[0;34m)\u001b[0m\u001b[0;34m\u001b[0m\u001b[0;34m\u001b[0m\u001b[0m\n\u001b[0m",
      "\u001b[0;32m<__array_function__ internals>\u001b[0m in \u001b[0;36mdot\u001b[0;34m(*args, **kwargs)\u001b[0m\n",
      "\u001b[0;31mValueError\u001b[0m: shapes (5,3) and (5,3) not aligned: 3 (dim 1) != 5 (dim 0)"
     ]
    }
   ],
   "source": [
    "# Dot product\n",
    "np.dot(mat1,mat2)"
   ]
  },
  {
   "cell_type": "code",
   "execution_count": 190,
   "id": "39230472",
   "metadata": {},
   "outputs": [],
   "source": [
    "Tmat =mat2.T"
   ]
  },
  {
   "cell_type": "code",
   "execution_count": 191,
   "id": "5ccd27c8",
   "metadata": {},
   "outputs": [
    {
     "data": {
      "text/plain": [
       "(3, 5)"
      ]
     },
     "execution_count": 191,
     "metadata": {},
     "output_type": "execute_result"
    }
   ],
   "source": [
    "Tmat.shape"
   ]
  },
  {
   "cell_type": "code",
   "execution_count": 193,
   "id": "b2781626",
   "metadata": {},
   "outputs": [
    {
     "data": {
      "text/plain": [
       "((5, 3), (3, 5))"
      ]
     },
     "execution_count": 193,
     "metadata": {},
     "output_type": "execute_result"
    }
   ],
   "source": [
    "mat1.shape, Tmat.shape"
   ]
  },
  {
   "cell_type": "code",
   "execution_count": 195,
   "id": "9857e7b5",
   "metadata": {},
   "outputs": [
    {
     "data": {
      "text/plain": [
       "array([[ 51,  55,  72,  20,  15],\n",
       "       [130,  76, 164,  33,  44],\n",
       "       [ 67,  39,  85,  27,  34],\n",
       "       [115,  69, 146,  37,  47],\n",
       "       [111,  77, 145,  56,  64]])"
      ]
     },
     "execution_count": 195,
     "metadata": {},
     "output_type": "execute_result"
    }
   ],
   "source": [
    "# Dot product can be only applied if the internal indices are same , in the above example (5X3)(3X5) (3,3) are matching so it will work the result will be 5X5 matrix\n",
    "\n",
    "dotresult = np.dot(mat1,Tmat)\n",
    "dotresult\n"
   ]
  },
  {
   "cell_type": "code",
   "execution_count": 198,
   "id": "a8bdcb1c",
   "metadata": {},
   "outputs": [
    {
     "data": {
      "text/plain": [
       "((5, 3), (5, 3))"
      ]
     },
     "execution_count": 198,
     "metadata": {},
     "output_type": "execute_result"
    }
   ],
   "source": [
    "mat1.shape ,mat2.shape"
   ]
  },
  {
   "cell_type": "code",
   "execution_count": 201,
   "id": "ba688dcf",
   "metadata": {},
   "outputs": [
    {
     "data": {
      "text/plain": [
       "array([[12, 15,  0],\n",
       "       [ 3,  3,  7],\n",
       "       [ 9, 19, 18],\n",
       "       [ 4,  6, 12],\n",
       "       [ 1,  6,  7]])"
      ]
     },
     "execution_count": 201,
     "metadata": {},
     "output_type": "execute_result"
    }
   ],
   "source": [
    "# Dot Product Example\n",
    "np.random.seed(0)\n",
    "arr1 =np.random.randint(20,size=(5,3))\n",
    "arr1\n"
   ]
  },
  {
   "cell_type": "code",
   "execution_count": 202,
   "id": "fa4826eb",
   "metadata": {},
   "outputs": [
    {
     "data": {
      "text/html": [
       "<div>\n",
       "<style scoped>\n",
       "    .dataframe tbody tr th:only-of-type {\n",
       "        vertical-align: middle;\n",
       "    }\n",
       "\n",
       "    .dataframe tbody tr th {\n",
       "        vertical-align: top;\n",
       "    }\n",
       "\n",
       "    .dataframe thead th {\n",
       "        text-align: right;\n",
       "    }\n",
       "</style>\n",
       "<table border=\"1\" class=\"dataframe\">\n",
       "  <thead>\n",
       "    <tr style=\"text-align: right;\">\n",
       "      <th></th>\n",
       "      <th>Almond butter</th>\n",
       "      <th>PeannutButter</th>\n",
       "      <th>CashewButter</th>\n",
       "    </tr>\n",
       "  </thead>\n",
       "  <tbody>\n",
       "    <tr>\n",
       "      <th>Mon</th>\n",
       "      <td>12</td>\n",
       "      <td>15</td>\n",
       "      <td>0</td>\n",
       "    </tr>\n",
       "    <tr>\n",
       "      <th>Tue</th>\n",
       "      <td>3</td>\n",
       "      <td>3</td>\n",
       "      <td>7</td>\n",
       "    </tr>\n",
       "    <tr>\n",
       "      <th>Wed</th>\n",
       "      <td>9</td>\n",
       "      <td>19</td>\n",
       "      <td>18</td>\n",
       "    </tr>\n",
       "    <tr>\n",
       "      <th>Thu</th>\n",
       "      <td>4</td>\n",
       "      <td>6</td>\n",
       "      <td>12</td>\n",
       "    </tr>\n",
       "    <tr>\n",
       "      <th>Fri</th>\n",
       "      <td>1</td>\n",
       "      <td>6</td>\n",
       "      <td>7</td>\n",
       "    </tr>\n",
       "  </tbody>\n",
       "</table>\n",
       "</div>"
      ],
      "text/plain": [
       "     Almond butter  PeannutButter  CashewButter\n",
       "Mon             12             15             0\n",
       "Tue              3              3             7\n",
       "Wed              9             19            18\n",
       "Thu              4              6            12\n",
       "Fri              1              6             7"
      ]
     },
     "execution_count": 202,
     "metadata": {},
     "output_type": "execute_result"
    }
   ],
   "source": [
    "res= pd.DataFrame(arr1, index=[\"Mon\",\"Tue\",\"Wed\",\"Thu\",\"Fri\"] ,columns=[\"Almond butter\", \"PeannutButter\", \"CashewButter\"])\n",
    "res"
   ]
  },
  {
   "cell_type": "code",
   "execution_count": 264,
   "id": "bd33adb7",
   "metadata": {},
   "outputs": [
    {
     "data": {
      "text/html": [
       "<div>\n",
       "<style scoped>\n",
       "    .dataframe tbody tr th:only-of-type {\n",
       "        vertical-align: middle;\n",
       "    }\n",
       "\n",
       "    .dataframe tbody tr th {\n",
       "        vertical-align: top;\n",
       "    }\n",
       "\n",
       "    .dataframe thead th {\n",
       "        text-align: right;\n",
       "    }\n",
       "</style>\n",
       "<table border=\"1\" class=\"dataframe\">\n",
       "  <thead>\n",
       "    <tr style=\"text-align: right;\">\n",
       "      <th></th>\n",
       "      <th>AlmondButter</th>\n",
       "      <th>PeanutButter</th>\n",
       "      <th>CashewButter</th>\n",
       "    </tr>\n",
       "  </thead>\n",
       "  <tbody>\n",
       "    <tr>\n",
       "      <th>Price</th>\n",
       "      <td>5</td>\n",
       "      <td>0</td>\n",
       "      <td>3</td>\n",
       "    </tr>\n",
       "  </tbody>\n",
       "</table>\n",
       "</div>"
      ],
      "text/plain": [
       "       AlmondButter  PeanutButter  CashewButter\n",
       "Price             5             0             3"
      ]
     },
     "execution_count": 264,
     "metadata": {},
     "output_type": "execute_result"
    }
   ],
   "source": [
    "np.random.seed(0)\n",
    "pricecard = np.random.randint((12),size=(1,3))\n",
    "pricecard\n",
    "ratecard = pd.DataFrame(pricecard, index=[\"Price\"] ,columns=[\"AlmondButter\", \"PeanutButter\", \"CashewButter\"] )\n",
    "ratecard\n"
   ]
  },
  {
   "cell_type": "code",
   "execution_count": 337,
   "id": "68cf58fd",
   "metadata": {},
   "outputs": [],
   "source": [
    "res [\"Weekly Sales \"]= np.dot(arr1, ratecard.T)"
   ]
  },
  {
   "cell_type": "code",
   "execution_count": 365,
   "id": "0157321c",
   "metadata": {},
   "outputs": [],
   "source": [
    "res.drop(columns=[\"Weekly Sales \"] , inplace=True)"
   ]
  },
  {
   "cell_type": "code",
   "execution_count": 366,
   "id": "9cf7caaf",
   "metadata": {},
   "outputs": [
    {
     "data": {
      "text/html": [
       "<div>\n",
       "<style scoped>\n",
       "    .dataframe tbody tr th:only-of-type {\n",
       "        vertical-align: middle;\n",
       "    }\n",
       "\n",
       "    .dataframe tbody tr th {\n",
       "        vertical-align: top;\n",
       "    }\n",
       "\n",
       "    .dataframe thead th {\n",
       "        text-align: right;\n",
       "    }\n",
       "</style>\n",
       "<table border=\"1\" class=\"dataframe\">\n",
       "  <thead>\n",
       "    <tr style=\"text-align: right;\">\n",
       "      <th></th>\n",
       "      <th>Almond butter</th>\n",
       "      <th>PeannutButter</th>\n",
       "      <th>CashewButter</th>\n",
       "      <th>Weekly Sakes</th>\n",
       "    </tr>\n",
       "  </thead>\n",
       "  <tbody>\n",
       "    <tr>\n",
       "      <th>Mon</th>\n",
       "      <td>12</td>\n",
       "      <td>15</td>\n",
       "      <td>0</td>\n",
       "      <td>60</td>\n",
       "    </tr>\n",
       "    <tr>\n",
       "      <th>Tue</th>\n",
       "      <td>3</td>\n",
       "      <td>3</td>\n",
       "      <td>7</td>\n",
       "      <td>36</td>\n",
       "    </tr>\n",
       "    <tr>\n",
       "      <th>Wed</th>\n",
       "      <td>9</td>\n",
       "      <td>19</td>\n",
       "      <td>18</td>\n",
       "      <td>99</td>\n",
       "    </tr>\n",
       "    <tr>\n",
       "      <th>Thu</th>\n",
       "      <td>4</td>\n",
       "      <td>6</td>\n",
       "      <td>12</td>\n",
       "      <td>56</td>\n",
       "    </tr>\n",
       "    <tr>\n",
       "      <th>Fri</th>\n",
       "      <td>1</td>\n",
       "      <td>6</td>\n",
       "      <td>7</td>\n",
       "      <td>26</td>\n",
       "    </tr>\n",
       "  </tbody>\n",
       "</table>\n",
       "</div>"
      ],
      "text/plain": [
       "     Almond butter  PeannutButter  CashewButter  Weekly Sakes \n",
       "Mon             12             15             0             60\n",
       "Tue              3              3             7             36\n",
       "Wed              9             19            18             99\n",
       "Thu              4              6            12             56\n",
       "Fri              1              6             7             26"
      ]
     },
     "execution_count": 366,
     "metadata": {},
     "output_type": "execute_result"
    }
   ],
   "source": [
    "res"
   ]
  },
  {
   "cell_type": "markdown",
   "id": "eab5b5da",
   "metadata": {},
   "source": [
    "### Comparison Operators"
   ]
  },
  {
   "cell_type": "code",
   "execution_count": 367,
   "id": "bc8c4526",
   "metadata": {},
   "outputs": [
    {
     "data": {
      "text/plain": [
       "array([1, 2, 3])"
      ]
     },
     "execution_count": 367,
     "metadata": {},
     "output_type": "execute_result"
    }
   ],
   "source": [
    "a1\n"
   ]
  },
  {
   "cell_type": "code",
   "execution_count": 368,
   "id": "c9e03c7e",
   "metadata": {},
   "outputs": [
    {
     "data": {
      "text/plain": [
       "array([[1. , 2. , 3.3],\n",
       "       [4. , 5. , 6.5]])"
      ]
     },
     "execution_count": 368,
     "metadata": {},
     "output_type": "execute_result"
    }
   ],
   "source": [
    "a2"
   ]
  },
  {
   "cell_type": "code",
   "execution_count": 370,
   "id": "17c92d8a",
   "metadata": {},
   "outputs": [
    {
     "data": {
      "text/plain": [
       "array([[False, False, False],\n",
       "       [False, False, False]])"
      ]
     },
     "execution_count": 370,
     "metadata": {},
     "output_type": "execute_result"
    }
   ],
   "source": [
    "# Compares every element in the a1 is greater than every element in a2\n",
    "a1 > a2"
   ]
  },
  {
   "cell_type": "code",
   "execution_count": 372,
   "id": "5e279bf7",
   "metadata": {},
   "outputs": [],
   "source": [
    "bool_array= a1>=a2"
   ]
  },
  {
   "cell_type": "code",
   "execution_count": 373,
   "id": "d43aea13",
   "metadata": {},
   "outputs": [
    {
     "data": {
      "text/plain": [
       "numpy.ndarray"
      ]
     },
     "execution_count": 373,
     "metadata": {},
     "output_type": "execute_result"
    }
   ],
   "source": [
    "type(bool_array)"
   ]
  },
  {
   "cell_type": "code",
   "execution_count": 374,
   "id": "613519fe",
   "metadata": {},
   "outputs": [
    {
     "data": {
      "text/plain": [
       "array([False, False, False])"
      ]
     },
     "execution_count": 374,
     "metadata": {},
     "output_type": "execute_result"
    }
   ],
   "source": [
    "a1>5"
   ]
  },
  {
   "cell_type": "code",
   "execution_count": 375,
   "id": "8671128d",
   "metadata": {},
   "outputs": [
    {
     "data": {
      "text/plain": [
       "False"
      ]
     },
     "execution_count": 375,
     "metadata": {},
     "output_type": "execute_result"
    }
   ],
   "source": [
    "a1[0]>5"
   ]
  },
  {
   "cell_type": "code",
   "execution_count": 380,
   "id": "423b5ca8",
   "metadata": {},
   "outputs": [
    {
     "data": {
      "text/plain": [
       "array([False, False, False])"
      ]
     },
     "execution_count": 380,
     "metadata": {},
     "output_type": "execute_result"
    }
   ],
   "source": [
    "a1[:3]>5"
   ]
  },
  {
   "cell_type": "code",
   "execution_count": 381,
   "id": "11f4e255",
   "metadata": {},
   "outputs": [
    {
     "data": {
      "text/plain": [
       "array([False,  True, False])"
      ]
     },
     "execution_count": 381,
     "metadata": {},
     "output_type": "execute_result"
    }
   ],
   "source": [
    "a1[:3]== 2"
   ]
  },
  {
   "cell_type": "markdown",
   "id": "3437196e",
   "metadata": {},
   "source": [
    "### Sorting the Array's"
   ]
  },
  {
   "cell_type": "code",
   "execution_count": 382,
   "id": "ce952482",
   "metadata": {},
   "outputs": [
    {
     "data": {
      "text/plain": [
       "array([[8, 9, 0, 2, 6],\n",
       "       [6, 5, 2, 5, 6],\n",
       "       [4, 7, 3, 7, 0]])"
      ]
     },
     "execution_count": 382,
     "metadata": {},
     "output_type": "execute_result"
    }
   ],
   "source": [
    "random_array"
   ]
  },
  {
   "cell_type": "code",
   "execution_count": 383,
   "id": "d4955150",
   "metadata": {},
   "outputs": [
    {
     "data": {
      "text/plain": [
       "(3, 5)"
      ]
     },
     "execution_count": 383,
     "metadata": {},
     "output_type": "execute_result"
    }
   ],
   "source": [
    "random_array.shape"
   ]
  },
  {
   "cell_type": "code",
   "execution_count": 384,
   "id": "80588831",
   "metadata": {},
   "outputs": [
    {
     "data": {
      "text/plain": [
       "array([[0, 2, 6, 8, 9],\n",
       "       [2, 5, 5, 6, 6],\n",
       "       [0, 3, 4, 7, 7]])"
      ]
     },
     "execution_count": 384,
     "metadata": {},
     "output_type": "execute_result"
    }
   ],
   "source": [
    "# Sorts the element's inside the array\n",
    "np.sort(random_array)"
   ]
  },
  {
   "cell_type": "code",
   "execution_count": 386,
   "id": "58671f4d",
   "metadata": {},
   "outputs": [
    {
     "data": {
      "text/plain": [
       "array([[8, 9, 0, 2, 6],\n",
       "       [6, 5, 2, 5, 6],\n",
       "       [4, 7, 3, 7, 0]])"
      ]
     },
     "execution_count": 386,
     "metadata": {},
     "output_type": "execute_result"
    }
   ],
   "source": [
    "random_array"
   ]
  },
  {
   "cell_type": "code",
   "execution_count": 385,
   "id": "146b7107",
   "metadata": {},
   "outputs": [
    {
     "data": {
      "text/plain": [
       "array([[2, 3, 4, 0, 1],\n",
       "       [2, 1, 3, 0, 4],\n",
       "       [4, 2, 0, 1, 3]])"
      ]
     },
     "execution_count": 385,
     "metadata": {},
     "output_type": "execute_result"
    }
   ],
   "source": [
    "np.argsort(random_array)\n",
    "# Sorts the elements based on the array.\n"
   ]
  },
  {
   "cell_type": "code",
   "execution_count": 387,
   "id": "83c72979",
   "metadata": {},
   "outputs": [
    {
     "data": {
      "text/plain": [
       "2"
      ]
     },
     "execution_count": 387,
     "metadata": {},
     "output_type": "execute_result"
    }
   ],
   "source": [
    "np.argmin(random_array)"
   ]
  },
  {
   "cell_type": "code",
   "execution_count": 388,
   "id": "3a9d73d1",
   "metadata": {},
   "outputs": [
    {
     "data": {
      "text/plain": [
       "1"
      ]
     },
     "execution_count": 388,
     "metadata": {},
     "output_type": "execute_result"
    }
   ],
   "source": [
    "np.argmax(random_array)"
   ]
  },
  {
   "cell_type": "code",
   "execution_count": 392,
   "id": "d099d147",
   "metadata": {},
   "outputs": [
    {
     "data": {
      "text/plain": [
       "array([10,  4,  1, 90,  3,  2])"
      ]
     },
     "execution_count": 392,
     "metadata": {},
     "output_type": "execute_result"
    }
   ],
   "source": [
    "argsortarray = np.array([10,4,1,90,3,2])\n",
    "argsortarray"
   ]
  },
  {
   "cell_type": "code",
   "execution_count": 393,
   "id": "9008269e",
   "metadata": {},
   "outputs": [
    {
     "data": {
      "text/plain": [
       "array([2, 5, 4, 1, 0, 3])"
      ]
     },
     "execution_count": 393,
     "metadata": {},
     "output_type": "execute_result"
    }
   ],
   "source": [
    "np.argsort(argsortarray)"
   ]
  },
  {
   "cell_type": "code",
   "execution_count": 394,
   "id": "e6e37452",
   "metadata": {},
   "outputs": [
    {
     "data": {
      "text/plain": [
       "2"
      ]
     },
     "execution_count": 394,
     "metadata": {},
     "output_type": "execute_result"
    }
   ],
   "source": [
    "np.argmin(argsortarray)"
   ]
  },
  {
   "cell_type": "code",
   "execution_count": 395,
   "id": "30af4c6d",
   "metadata": {},
   "outputs": [
    {
     "data": {
      "text/plain": [
       "3"
      ]
     },
     "execution_count": 395,
     "metadata": {},
     "output_type": "execute_result"
    }
   ],
   "source": [
    "np.argmax(argsortarray)"
   ]
  },
  {
   "cell_type": "code",
   "execution_count": 398,
   "id": "a7df9c77",
   "metadata": {},
   "outputs": [
    {
     "data": {
      "text/plain": [
       "array([10,  4,  1, 90,  3,  2])"
      ]
     },
     "execution_count": 398,
     "metadata": {},
     "output_type": "execute_result"
    }
   ],
   "source": [
    "argsortarray"
   ]
  },
  {
   "cell_type": "code",
   "execution_count": 397,
   "id": "10d4c711",
   "metadata": {},
   "outputs": [
    {
     "data": {
      "text/plain": [
       "3"
      ]
     },
     "execution_count": 397,
     "metadata": {},
     "output_type": "execute_result"
    }
   ],
   "source": [
    "np.argmax(argsortarray , axis=0)"
   ]
  },
  {
   "cell_type": "code",
   "execution_count": 399,
   "id": "b406a118",
   "metadata": {},
   "outputs": [
    {
     "data": {
      "text/plain": [
       "array([[8, 9, 0, 2, 6],\n",
       "       [6, 5, 2, 5, 6],\n",
       "       [4, 7, 3, 7, 0]])"
      ]
     },
     "execution_count": 399,
     "metadata": {},
     "output_type": "execute_result"
    }
   ],
   "source": [
    "random_array"
   ]
  },
  {
   "cell_type": "code",
   "execution_count": 402,
   "id": "5534f4d3",
   "metadata": {},
   "outputs": [
    {
     "data": {
      "text/plain": [
       "array([0, 0, 2, 2, 0])"
      ]
     },
     "execution_count": 402,
     "metadata": {},
     "output_type": "execute_result"
    }
   ],
   "source": [
    "np.argmax(random_array ,axis=0 )\n",
    "# axis 0 : Represents the columns.\n",
    "# 1) 1st column index of max value (8,6,4) position of 8 is 0 =>0\n",
    "# 2) 2nd column index of max value (9,5,7) positio of 9 is 0 =>0\n",
    "# 2) 3rd column index of max value (0,2,3) positio of 3 is 2 =>2\n",
    "# 2) 4th column index of max value (2,5,7) positio of 7 is 2 =>2\n",
    "# 2) 5th column index of max value (6,6,0) positio of 6 is 0,1 =>0\n"
   ]
  },
  {
   "cell_type": "code",
   "execution_count": 406,
   "id": "db01cf00",
   "metadata": {},
   "outputs": [
    {
     "data": {
      "text/plain": [
       "array([1, 0, 1])"
      ]
     },
     "execution_count": 406,
     "metadata": {},
     "output_type": "execute_result"
    }
   ],
   "source": [
    "np.argmax(random_array ,axis=1 )\n",
    "# axis 1 : Represents the rows.\n",
    "# 1) 1st row index of max value (8, 9, 0, 2, 6) position of 9 is 1 =>1\n",
    "# 2) 2nd row index of max value (6, 5, 2, 5, 6) position of 6 is 0 =>0\n",
    "# 2) 3rd row index of max value (4, 7, 3, 7, 0) position of 7 is 1 =>1\n"
   ]
  },
  {
   "cell_type": "markdown",
   "id": "52983d35",
   "metadata": {},
   "source": [
    "### Practical Examples - Numpy in Action\n"
   ]
  },
  {
   "cell_type": "markdown",
   "id": "39d77e35",
   "metadata": {},
   "source": [
    "<img src=\"panda.png\"></img>\n"
   ]
  },
  {
   "cell_type": "code",
   "execution_count": 420,
   "id": "6c7e1037",
   "metadata": {},
   "outputs": [],
   "source": [
    "from matplotlib.image import imread\n",
    "panda= imread(\"panda.png\")"
   ]
  },
  {
   "cell_type": "code",
   "execution_count": 422,
   "id": "c022c30b",
   "metadata": {},
   "outputs": [
    {
     "data": {
      "text/plain": [
       "numpy.ndarray"
      ]
     },
     "execution_count": 422,
     "metadata": {},
     "output_type": "execute_result"
    }
   ],
   "source": [
    "type(panda)"
   ]
  },
  {
   "cell_type": "code",
   "execution_count": 423,
   "id": "fca2ac34",
   "metadata": {},
   "outputs": [],
   "source": [
    "from matplotlib.image import imread\n",
    "panda = imread(\"panda.png\")"
   ]
  },
  {
   "cell_type": "code",
   "execution_count": 424,
   "id": "ef2faf28",
   "metadata": {},
   "outputs": [
    {
     "data": {
      "text/plain": [
       "array([[[0.05490196, 0.05490196, 0.05490196, ..., 0.13333334,\n",
       "         0.13333334, 0.13333334],\n",
       "        [0.05490196, 0.05490196, 0.05490196, ..., 0.12156863,\n",
       "         0.12156863, 0.12156863],\n",
       "        [0.05490196, 0.05490196, 0.05490196, ..., 0.10980392,\n",
       "         0.12156863, 0.12156863],\n",
       "        ...,\n",
       "        [0.16470589, 0.16470589, 0.16470589, ..., 0.02745098,\n",
       "         0.02352941, 0.02352941],\n",
       "        [0.16470589, 0.16470589, 0.16470589, ..., 0.02745098,\n",
       "         0.02352941, 0.02352941],\n",
       "        [0.16470589, 0.16470589, 0.16470589, ..., 0.02745098,\n",
       "         0.02352941, 0.02352941]],\n",
       "\n",
       "       [[0.10588235, 0.10588235, 0.10588235, ..., 0.07450981,\n",
       "         0.07450981, 0.07450981],\n",
       "        [0.10588235, 0.10588235, 0.10588235, ..., 0.0627451 ,\n",
       "         0.0627451 , 0.0627451 ],\n",
       "        [0.10588235, 0.10588235, 0.10588235, ..., 0.05098039,\n",
       "         0.0627451 , 0.0627451 ],\n",
       "        ...,\n",
       "        [0.12941177, 0.12941177, 0.12941177, ..., 0.02745098,\n",
       "         0.02352941, 0.02352941],\n",
       "        [0.12941177, 0.12941177, 0.12941177, ..., 0.02745098,\n",
       "         0.02352941, 0.02352941],\n",
       "        [0.12941177, 0.12941177, 0.12941177, ..., 0.02745098,\n",
       "         0.02352941, 0.02352941]],\n",
       "\n",
       "       [[0.06666667, 0.06666667, 0.06666667, ..., 0.05490196,\n",
       "         0.05490196, 0.05490196],\n",
       "        [0.06666667, 0.06666667, 0.06666667, ..., 0.04313726,\n",
       "         0.04313726, 0.04313726],\n",
       "        [0.06666667, 0.06666667, 0.06666667, ..., 0.03137255,\n",
       "         0.04313726, 0.04313726],\n",
       "        ...,\n",
       "        [0.09411765, 0.09411765, 0.09411765, ..., 0.03529412,\n",
       "         0.03137255, 0.03137255],\n",
       "        [0.09411765, 0.09411765, 0.09411765, ..., 0.03529412,\n",
       "         0.03137255, 0.03137255],\n",
       "        [0.09411765, 0.09411765, 0.09411765, ..., 0.03529412,\n",
       "         0.03137255, 0.03137255]]], dtype=float32)"
      ]
     },
     "execution_count": 424,
     "metadata": {},
     "output_type": "execute_result"
    }
   ],
   "source": []
  },
  {
   "cell_type": "code",
   "execution_count": null,
   "id": "7a71c338",
   "metadata": {},
   "outputs": [],
   "source": []
  }
 ],
 "metadata": {
  "kernelspec": {
   "display_name": "Python 3",
   "language": "python",
   "name": "python3"
  },
  "language_info": {
   "codemirror_mode": {
    "name": "ipython",
    "version": 3
   },
   "file_extension": ".py",
   "mimetype": "text/x-python",
   "name": "python",
   "nbconvert_exporter": "python",
   "pygments_lexer": "ipython3",
   "version": "3.9.2"
  }
 },
 "nbformat": 4,
 "nbformat_minor": 5
}
